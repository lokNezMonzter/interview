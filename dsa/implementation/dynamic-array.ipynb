{
 "cells": [
  {
   "cell_type": "markdown",
   "id": "50c7e3cd-34fa-4b96-afac-c522b9474ee7",
   "metadata": {},
   "source": [
    "# Dynamic buffer\n",
    "#### buffer can change it's size"
   ]
  },
  {
   "cell_type": "code",
   "execution_count": 31,
   "id": "65ba54af-bfa7-42e9-8c1c-d2d007e92ded",
   "metadata": {},
   "outputs": [],
   "source": [
    "# buffer of dynamic size\n",
    "class DynamicArray:\n",
    "    def __init__(self, size):\n",
    "        self.buffer = [float('nan')] * size\n",
    "        self.size = size\n",
    "        self.length = 0\n",
    "\n",
    "    def __len__(self):\n",
    "        return self.length\n",
    "\n",
    "    def is_empty(self):\n",
    "        return self.length == 0\n",
    "\n",
    "    def resize(self):\n",
    "        # double buffer size\n",
    "        self.size *= 2\n",
    "        # create empty buffer of new size\n",
    "        new_buffer = [float('nan')] * self.size\n",
    "        # copy elements from old buffer to new buffer\n",
    "        for i in range(self.length):\n",
    "            new_buffer[i] = self.buffer[i]\n",
    "        self.buffer = new_buffer\n",
    "\n",
    "    # insert element at end\n",
    "    def push(self, value):\n",
    "        # resize buffer if full\n",
    "        if self.length == self.size:\n",
    "            self.resize()\n",
    "        \n",
    "        self.buffer[self.length] = value\n",
    "        self.length += 1\n",
    "\n",
    "    # remove elements from end\n",
    "    def pop(self):\n",
    "        if self.is_empty():\n",
    "            raise Exception(\"index out of bounds\")\n",
    "        self.buffer[self.length] = float('nan')\n",
    "        self.length -= 1\n",
    "\n",
    "    # insert element at index i\n",
    "    def insert(self, value, index):\n",
    "        if index >= self.size:\n",
    "            raise Exception(\"index out of bounds\")\n",
    "            \n",
    "        if self.length == self.size:\n",
    "            self.resize()\n",
    "\n",
    "        for i in range(self.length, index-1, -1):\n",
    "            self.buffer[i+1] = self.buffer[i]\n",
    "        \n",
    "        self.buffer[index] = value\n",
    "        self.length += 1\n",
    "\n",
    "    # remove element from index i\n",
    "    def remove(self, index):\n",
    "        if index >= self.size:\n",
    "            raise Exception(\"index out of bounds\")\n",
    "\n",
    "        if self.is_empty():\n",
    "            raise Exception(\"index out of bounds\")\n",
    "\n",
    "        for i in range(index + 1, self.length):\n",
    "            self.buffer[i-1] = self.buffer[i]\n",
    "        self.length -= 1\n",
    "\n",
    "        for i in range(self.length, self.size):\n",
    "            self.buffer[i] = float('nan')\n",
    "\n",
    "    def display(self):\n",
    "        if self.is_empty():\n",
    "            raise Exception(\"index out of bounds\")\n",
    "\n",
    "        print(f\"[ \", end=\"\")\n",
    "        for i in range(self.length):\n",
    "            print(f\"{self.buffer[i]}, \", end=\"\")\n",
    "        print(\" ]\", end=\"\\n\")"
   ]
  },
  {
   "cell_type": "code",
   "execution_count": 18,
   "id": "bbd0821d-71b7-49b8-98be-4ee5f5a8f125",
   "metadata": {},
   "outputs": [],
   "source": [
    "arr = DynamicArray(6)"
   ]
  },
  {
   "cell_type": "code",
   "execution_count": 19,
   "id": "6dced6e2-4a9e-4aaf-862d-295b87a5c268",
   "metadata": {},
   "outputs": [
    {
     "data": {
      "text/plain": [
       "(True, 0, 6)"
      ]
     },
     "execution_count": 19,
     "metadata": {},
     "output_type": "execute_result"
    }
   ],
   "source": [
    "arr.is_empty(), len(arr), arr.size"
   ]
  },
  {
   "cell_type": "code",
   "execution_count": 20,
   "id": "c6ddee6f-8840-490d-9010-44c9186ee62b",
   "metadata": {},
   "outputs": [
    {
     "name": "stdout",
     "output_type": "stream",
     "text": [
      "False 7\n"
     ]
    }
   ],
   "source": [
    "my_arr = [10, 20, 30, 40, 50, 60, 70]\n",
    "try:\n",
    "    for el in my_arr:\n",
    "        arr.push(el)\n",
    "    print(arr.is_empty(), len(arr))\n",
    "except Exception as e:\n",
    "    print(e)"
   ]
  },
  {
   "cell_type": "code",
   "execution_count": 21,
   "id": "e8806886-f3f1-4be7-aa37-46ffd66ec6f9",
   "metadata": {},
   "outputs": [
    {
     "name": "stdout",
     "output_type": "stream",
     "text": [
      "[ 10, 20, 30, 40, 50, 60, 70,  ]\n"
     ]
    }
   ],
   "source": [
    "arr.display()"
   ]
  },
  {
   "cell_type": "code",
   "execution_count": 22,
   "id": "297711b5-5060-479b-af6c-b95a5efcf9ec",
   "metadata": {},
   "outputs": [
    {
     "data": {
      "text/plain": [
       "4"
      ]
     },
     "execution_count": 22,
     "metadata": {},
     "output_type": "execute_result"
    }
   ],
   "source": [
    "for _ in range(3):\n",
    "    arr.pop()\n",
    "len(arr)"
   ]
  },
  {
   "cell_type": "code",
   "execution_count": 23,
   "id": "2e9c8461-438d-4f42-88c8-0b0b3e3be113",
   "metadata": {},
   "outputs": [
    {
     "name": "stdout",
     "output_type": "stream",
     "text": [
      "[ 10, 20, 30, 40,  ]\n"
     ]
    }
   ],
   "source": [
    "arr.display()"
   ]
  },
  {
   "cell_type": "code",
   "execution_count": 32,
   "id": "054ae52f-b35d-4532-8d44-b49c686a73f2",
   "metadata": {},
   "outputs": [],
   "source": [
    "arr = DynamicArray(2)"
   ]
  },
  {
   "cell_type": "code",
   "execution_count": 33,
   "id": "5480439d-2eb9-41b5-9b5b-56640c17e883",
   "metadata": {},
   "outputs": [
    {
     "data": {
      "text/plain": [
       "(True, 0, 2)"
      ]
     },
     "execution_count": 33,
     "metadata": {},
     "output_type": "execute_result"
    }
   ],
   "source": [
    "arr.is_empty(), len(arr), arr.size"
   ]
  },
  {
   "cell_type": "code",
   "execution_count": 34,
   "id": "376612f1-aad0-4e8d-ac97-24b2c6324ad8",
   "metadata": {},
   "outputs": [
    {
     "name": "stdout",
     "output_type": "stream",
     "text": [
      "False 17\n"
     ]
    }
   ],
   "source": [
    "my_arr = [10, 20, 30, 40, 50, 60, 70, 80, 90, 100, 110, 120, 130, 140, 150, 160, 170]\n",
    "try:\n",
    "    for el in my_arr:\n",
    "        arr.push(el)\n",
    "    print(arr.is_empty(), len(arr))\n",
    "except Exception as e:\n",
    "    print(e)"
   ]
  },
  {
   "cell_type": "code",
   "execution_count": 35,
   "id": "65e79488-4b6f-40f3-a342-51e6e681604e",
   "metadata": {},
   "outputs": [
    {
     "data": {
      "text/plain": [
       "32"
      ]
     },
     "execution_count": 35,
     "metadata": {},
     "output_type": "execute_result"
    }
   ],
   "source": [
    "arr.size"
   ]
  },
  {
   "cell_type": "code",
   "execution_count": 36,
   "id": "607e862c-8949-4076-8661-ea10be938c21",
   "metadata": {},
   "outputs": [
    {
     "name": "stdout",
     "output_type": "stream",
     "text": [
      "[ 99, 10, 20, 30, 40, 50, 60, 70, 80, 90, 100, 110, 120, 130, 140, 150, 160, 170,  ]\n"
     ]
    }
   ],
   "source": [
    "arr.insert(99, 0)\n",
    "arr.display()"
   ]
  },
  {
   "cell_type": "code",
   "execution_count": 37,
   "id": "249f1a50-83cd-49f1-b3b4-d992b6b3b75c",
   "metadata": {},
   "outputs": [
    {
     "data": {
      "text/plain": [
       "18"
      ]
     },
     "execution_count": 37,
     "metadata": {},
     "output_type": "execute_result"
    }
   ],
   "source": [
    "len(arr)"
   ]
  },
  {
   "cell_type": "code",
   "execution_count": 38,
   "id": "131e9941-7209-4851-9657-25966ca318fe",
   "metadata": {},
   "outputs": [
    {
     "name": "stdout",
     "output_type": "stream",
     "text": [
      "[ 10, 20, 30, 40, 50, 60, 70, 80, 90, 100, 110, 120, 130, 140, 150, 160, 170,  ]\n"
     ]
    }
   ],
   "source": [
    "arr.remove(0)\n",
    "arr.display()"
   ]
  },
  {
   "cell_type": "code",
   "execution_count": 39,
   "id": "79963b79-cfae-4384-b694-9c77cc7f3ce9",
   "metadata": {},
   "outputs": [
    {
     "data": {
      "text/plain": [
       "(17, 32)"
      ]
     },
     "execution_count": 39,
     "metadata": {},
     "output_type": "execute_result"
    }
   ],
   "source": [
    "len(arr), arr.size"
   ]
  },
  {
   "cell_type": "code",
   "execution_count": 40,
   "id": "beb4194d-addb-4fec-80a3-ba2fbb79015c",
   "metadata": {},
   "outputs": [
    {
     "name": "stdout",
     "output_type": "stream",
     "text": [
      "[ 20, 30, 40, 50, 60, 70, 80, 90, 100, 110, 120, 130, 140, 150, 160,  ]\n"
     ]
    }
   ],
   "source": [
    "arr.remove(0)\n",
    "arr.remove(len(arr) - 1)\n",
    "arr.display()"
   ]
  },
  {
   "cell_type": "code",
   "execution_count": 41,
   "id": "0afca2b5-1c27-428d-94fe-10cc3e7641bb",
   "metadata": {},
   "outputs": [
    {
     "data": {
      "text/plain": [
       "15"
      ]
     },
     "execution_count": 41,
     "metadata": {},
     "output_type": "execute_result"
    }
   ],
   "source": [
    "len(arr)"
   ]
  },
  {
   "cell_type": "code",
   "execution_count": null,
   "id": "f814d26f-bc4d-453f-903d-0d0cef3f5af7",
   "metadata": {},
   "outputs": [],
   "source": []
  }
 ],
 "metadata": {
  "kernelspec": {
   "display_name": "Python 3 (ipykernel)",
   "language": "python",
   "name": "python3"
  },
  "language_info": {
   "codemirror_mode": {
    "name": "ipython",
    "version": 3
   },
   "file_extension": ".py",
   "mimetype": "text/x-python",
   "name": "python",
   "nbconvert_exporter": "python",
   "pygments_lexer": "ipython3",
   "version": "3.12.1"
  }
 },
 "nbformat": 4,
 "nbformat_minor": 5
}
