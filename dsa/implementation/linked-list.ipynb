{
 "cells": [
  {
   "cell_type": "markdown",
   "id": "6bd5a477-6671-4618-b249-f0075148f08c",
   "metadata": {},
   "source": [
    "# Singly Linked List Implementation"
   ]
  },
  {
   "cell_type": "code",
   "execution_count": 90,
   "id": "eabf5743-070d-4d92-8861-6ef8ae2194e9",
   "metadata": {},
   "outputs": [],
   "source": [
    "# Implementation of linked list node\n",
    "class Node:\n",
    "    def __init__(self, val):\n",
    "        self.val = val\n",
    "        self.next = None\n",
    "\n",
    "# Implementation of linked list\n",
    "class LinkedList:\n",
    "    def __init__(self):\n",
    "        self.head = None\n",
    "        self.tail = None\n",
    "        self.size = 0\n",
    "\n",
    "    def insert_first_node(self, tmp):\n",
    "        self.head = tmp\n",
    "        self.tail = tmp\n",
    "        self.size = 1\n",
    "\n",
    "    def get_length(self):\n",
    "        return self.size\n",
    "\n",
    "    def is_empty(self):\n",
    "        return self.size == 0\n",
    "\n",
    "    def get_head_element(self):\n",
    "        if self.is_empty():\n",
    "            raise Exception(\"EMPTY LIST!\")\n",
    "        return self.head.val\n",
    "\n",
    "    def get_tail_element(self):\n",
    "        if self.is_empty():\n",
    "            raise Exception(\"EMPTY LIST!\")\n",
    "        return self.tail.val\n",
    "\n",
    "    def insert_at_head(self, val):\n",
    "        node = Node(val)\n",
    "        \n",
    "        if self.is_empty():\n",
    "            self.insert_first_node(node)\n",
    "            return\n",
    "\n",
    "        node.next = self.head\n",
    "        self.head = node\n",
    "        self.size = self.size + 1\n",
    "\n",
    "    def insert_at_end(self, val):\n",
    "        node = Node(val)\n",
    "\n",
    "        if self.is_empty():\n",
    "            self.insert_first_node(node)\n",
    "            return\n",
    "\n",
    "        self.tail.next = node\n",
    "        self.tail = self.tail.next\n",
    "        self.size = self.size + 1\n",
    "\n",
    "    def remove_front(self):\n",
    "        if self.is_empty():\n",
    "            raise Exception(\"EMPTY LIST!\")\n",
    "\n",
    "        if self.get_length() == 1:\n",
    "            self.head = None\n",
    "            self.tail = None\n",
    "            self.size = 0\n",
    "            return\n",
    "\n",
    "        self.head = self.head.next\n",
    "        self.size = self.size - 1\n",
    "\n",
    "    def remove_end(self):\n",
    "        if self.is_empty():\n",
    "            raise Exception(\"EMPTY LIST!\")\n",
    "\n",
    "        if self.get_length() == 1:\n",
    "            self.head = None\n",
    "            self.tail = None\n",
    "            self.size = 0\n",
    "            return\n",
    "\n",
    "        current = self.head\n",
    "        while current.next != self.tail:\n",
    "            current = current.next\n",
    "\n",
    "        current.next = None\n",
    "        self.tail = current\n",
    "        self.size = self.size - 1\n",
    "\n",
    "    def remove(self, index):\n",
    "        if self.is_empty():\n",
    "            raise Exception(\"EMPTY LIST\")\n",
    "\n",
    "        if index == 0:\n",
    "            self.remove_front()\n",
    "            return\n",
    "\n",
    "        if index == self.get_length() - 1:\n",
    "            self.remove_end()\n",
    "            return\n",
    "\n",
    "        i = 0\n",
    "        current = self.head\n",
    "        while i < (index - 1) and current:\n",
    "            i = i + 1\n",
    "            current = current.next\n",
    "            \n",
    "        current.next = current.next.next\n",
    "        self.size = self.size - 1\n",
    "\n",
    "    def display(self):\n",
    "        if self.is_empty():\n",
    "            raise Exception(\"EMPTY LIST!\")\n",
    "\n",
    "        current = self.head\n",
    "        print(\"START -> \", end=\"\")\n",
    "        while current:\n",
    "            print(f\"{current.val} -> \", end=\"\")\n",
    "            current = current.next\n",
    "        print(\"END\")"
   ]
  },
  {
   "cell_type": "code",
   "execution_count": 91,
   "id": "d89bbbd5-4bcf-415b-bf51-d4e8d03e8161",
   "metadata": {},
   "outputs": [],
   "source": [
    "list1 = LinkedList()"
   ]
  },
  {
   "cell_type": "code",
   "execution_count": 92,
   "id": "3d24c4fe-0e76-430e-99c5-8a59a1fe4aca",
   "metadata": {},
   "outputs": [
    {
     "data": {
      "text/plain": [
       "(True, 0)"
      ]
     },
     "execution_count": 92,
     "metadata": {},
     "output_type": "execute_result"
    }
   ],
   "source": [
    "list1.is_empty(), list1.get_length()"
   ]
  },
  {
   "cell_type": "code",
   "execution_count": 19,
   "id": "d1eb5f47-0b0f-4cfe-b9fd-5b85bb7585b3",
   "metadata": {},
   "outputs": [],
   "source": [
    "arr = [10, 20, 30, 40]\n",
    "for el in arr:\n",
    "    list1.insert_at_end(el)"
   ]
  },
  {
   "cell_type": "code",
   "execution_count": 20,
   "id": "fd614473-c6e3-4edb-a832-f253561db3c0",
   "metadata": {},
   "outputs": [
    {
     "data": {
      "text/plain": [
       "(False, 4)"
      ]
     },
     "execution_count": 20,
     "metadata": {},
     "output_type": "execute_result"
    }
   ],
   "source": [
    "list1.is_empty(), list1.get_length()"
   ]
  },
  {
   "cell_type": "code",
   "execution_count": 21,
   "id": "eecb7b3f-af29-43d4-ae45-b728295f589d",
   "metadata": {},
   "outputs": [
    {
     "data": {
      "text/plain": [
       "(10, 40)"
      ]
     },
     "execution_count": 21,
     "metadata": {},
     "output_type": "execute_result"
    }
   ],
   "source": [
    "list1.get_head_element(), list1.get_tail_element()"
   ]
  },
  {
   "cell_type": "code",
   "execution_count": 22,
   "id": "634cdbc4-057c-482d-8735-b6e31f86eb8c",
   "metadata": {},
   "outputs": [
    {
     "name": "stdout",
     "output_type": "stream",
     "text": [
      "START -> 10 -> 20 -> 30 -> 40 -> END\n"
     ]
    }
   ],
   "source": [
    "list1.display()"
   ]
  },
  {
   "cell_type": "code",
   "execution_count": 23,
   "id": "7b8c42ed-1ef1-49c3-afa8-96a9dbe7fe77",
   "metadata": {},
   "outputs": [],
   "source": [
    "arr = [0.1, 0.2, 0.3, 0.4]\n",
    "\n",
    "try:\n",
    "    for el in arr:\n",
    "        list1.insert_at_head(el)\n",
    "except Exception as e:\n",
    "    print(f\"{e}\")"
   ]
  },
  {
   "cell_type": "code",
   "execution_count": 24,
   "id": "2cc2d4bf-079d-4339-a203-5f3ffb960125",
   "metadata": {},
   "outputs": [
    {
     "data": {
      "text/plain": [
       "(8, 0.4, 40)"
      ]
     },
     "execution_count": 24,
     "metadata": {},
     "output_type": "execute_result"
    }
   ],
   "source": [
    "list1.get_length(), list1.get_head_element(), list1.get_tail_element()"
   ]
  },
  {
   "cell_type": "code",
   "execution_count": 25,
   "id": "b26ce66a-769b-4fcd-a514-81edf767ade2",
   "metadata": {},
   "outputs": [
    {
     "name": "stdout",
     "output_type": "stream",
     "text": [
      "START -> 0.4 -> 0.3 -> 0.2 -> 0.1 -> 10 -> 20 -> 30 -> 40 -> END\n"
     ]
    }
   ],
   "source": [
    "list1.display()"
   ]
  },
  {
   "cell_type": "code",
   "execution_count": 26,
   "id": "ab9020d1-509f-4eca-8a92-98844b180111",
   "metadata": {},
   "outputs": [],
   "source": [
    "try:\n",
    "    for _ in range(3):\n",
    "        list1.remove_end()\n",
    "except Exception as e:\n",
    "    print(f\"{e}\")"
   ]
  },
  {
   "cell_type": "code",
   "execution_count": 27,
   "id": "fbbb9be1-dd6d-4dae-a881-86f079950f28",
   "metadata": {},
   "outputs": [
    {
     "data": {
      "text/plain": [
       "(5, 0.4, 10)"
      ]
     },
     "execution_count": 27,
     "metadata": {},
     "output_type": "execute_result"
    }
   ],
   "source": [
    "list1.get_length(), list1.get_head_element(), list1.get_tail_element()"
   ]
  },
  {
   "cell_type": "code",
   "execution_count": 28,
   "id": "3595cafd-6407-4537-95ab-45a793c6e0cb",
   "metadata": {},
   "outputs": [
    {
     "name": "stdout",
     "output_type": "stream",
     "text": [
      "START -> 0.4 -> 0.3 -> 0.2 -> 0.1 -> 10 -> END\n"
     ]
    }
   ],
   "source": [
    "list1.display()"
   ]
  },
  {
   "cell_type": "code",
   "execution_count": 29,
   "id": "2a65d9b2-f9bb-43c3-a4c3-4bbb209cce30",
   "metadata": {},
   "outputs": [],
   "source": [
    "try:\n",
    "    for _ in range(3):\n",
    "        list1.remove_front()\n",
    "except Exception as e:\n",
    "    print(f\"{e}\")"
   ]
  },
  {
   "cell_type": "code",
   "execution_count": 30,
   "id": "13a93f03-d7f2-4225-9e4a-114382ed098c",
   "metadata": {},
   "outputs": [
    {
     "data": {
      "text/plain": [
       "(2, 0.1, 10)"
      ]
     },
     "execution_count": 30,
     "metadata": {},
     "output_type": "execute_result"
    }
   ],
   "source": [
    "list1.get_length(), list1.get_head_element(), list1.get_tail_element()"
   ]
  },
  {
   "cell_type": "code",
   "execution_count": 31,
   "id": "6a4aaeb1-68c5-4889-ab79-55aaab8c3a27",
   "metadata": {},
   "outputs": [
    {
     "name": "stdout",
     "output_type": "stream",
     "text": [
      "START -> 0.1 -> 10 -> END\n"
     ]
    }
   ],
   "source": [
    "list1.display()"
   ]
  },
  {
   "cell_type": "code",
   "execution_count": 32,
   "id": "98ceb85d-4845-4ea5-9bf9-063844d22031",
   "metadata": {},
   "outputs": [],
   "source": [
    "list1.remove_end()"
   ]
  },
  {
   "cell_type": "code",
   "execution_count": 33,
   "id": "87f63c7d-2e00-40c3-b9ea-0ef2278cc4c0",
   "metadata": {},
   "outputs": [
    {
     "data": {
      "text/plain": [
       "(1, 0.1, 0.1)"
      ]
     },
     "execution_count": 33,
     "metadata": {},
     "output_type": "execute_result"
    }
   ],
   "source": [
    "list1.get_length(), list1.get_head_element(), list1.get_tail_element()"
   ]
  },
  {
   "cell_type": "code",
   "execution_count": 34,
   "id": "b8b70b7e-c24e-4c57-a9a5-e12ebc14c4a9",
   "metadata": {},
   "outputs": [],
   "source": [
    "list1.remove_front()"
   ]
  },
  {
   "cell_type": "code",
   "execution_count": 35,
   "id": "a3f6f043-fb5f-45ff-a005-375e38c33cce",
   "metadata": {},
   "outputs": [
    {
     "ename": "Exception",
     "evalue": "EMPTY LIST!",
     "output_type": "error",
     "traceback": [
      "\u001b[0;31m---------------------------------------------------------------------------\u001b[0m",
      "\u001b[0;31mException\u001b[0m                                 Traceback (most recent call last)",
      "Cell \u001b[0;32mIn[35], line 1\u001b[0m\n\u001b[0;32m----> 1\u001b[0m list1\u001b[38;5;241m.\u001b[39mget_length(), \u001b[43mlist1\u001b[49m\u001b[38;5;241;43m.\u001b[39;49m\u001b[43mget_head_element\u001b[49m\u001b[43m(\u001b[49m\u001b[43m)\u001b[49m, list1\u001b[38;5;241m.\u001b[39mget_tail_element()\n",
      "Cell \u001b[0;32mIn[16], line 27\u001b[0m, in \u001b[0;36mLinkedList.get_head_element\u001b[0;34m(self)\u001b[0m\n\u001b[1;32m     25\u001b[0m \u001b[38;5;28;01mdef\u001b[39;00m \u001b[38;5;21mget_head_element\u001b[39m(\u001b[38;5;28mself\u001b[39m):\n\u001b[1;32m     26\u001b[0m     \u001b[38;5;28;01mif\u001b[39;00m \u001b[38;5;28mself\u001b[39m\u001b[38;5;241m.\u001b[39mis_empty():\n\u001b[0;32m---> 27\u001b[0m         \u001b[38;5;28;01mraise\u001b[39;00m \u001b[38;5;167;01mException\u001b[39;00m(\u001b[38;5;124m\"\u001b[39m\u001b[38;5;124mEMPTY LIST!\u001b[39m\u001b[38;5;124m\"\u001b[39m)\n\u001b[1;32m     28\u001b[0m     \u001b[38;5;28;01mreturn\u001b[39;00m \u001b[38;5;28mself\u001b[39m\u001b[38;5;241m.\u001b[39mhead\u001b[38;5;241m.\u001b[39mval\n",
      "\u001b[0;31mException\u001b[0m: EMPTY LIST!"
     ]
    }
   ],
   "source": [
    "list1.get_length(), list1.get_head_element(), list1.get_tail_element()"
   ]
  },
  {
   "cell_type": "code",
   "execution_count": 36,
   "id": "dcab80d5-bd52-4728-a4e7-c6bc5262064b",
   "metadata": {},
   "outputs": [
    {
     "data": {
      "text/plain": [
       "0"
      ]
     },
     "execution_count": 36,
     "metadata": {},
     "output_type": "execute_result"
    }
   ],
   "source": [
    "list1.get_length()"
   ]
  },
  {
   "cell_type": "code",
   "execution_count": 93,
   "id": "e080b8c7-7bd9-4574-8df1-e736f1e9e5db",
   "metadata": {},
   "outputs": [
    {
     "name": "stdout",
     "output_type": "stream",
     "text": [
      "START -> 10 -> 20 -> 30 -> 40 -> 50 -> 60 -> END\n"
     ]
    }
   ],
   "source": [
    "arr = [10, 20, 30, 40, 50, 60]\n",
    "for el in arr:\n",
    "    list1.insert_at_end(el)\n",
    "list1.display()"
   ]
  },
  {
   "cell_type": "code",
   "execution_count": 94,
   "id": "4a79c076-7262-48a2-a5cc-22abc12b4b9e",
   "metadata": {},
   "outputs": [],
   "source": [
    "list1.remove(3)"
   ]
  },
  {
   "cell_type": "code",
   "execution_count": 95,
   "id": "c6e40f14-9ccb-4015-a186-98420b59dd27",
   "metadata": {},
   "outputs": [
    {
     "data": {
      "text/plain": [
       "5"
      ]
     },
     "execution_count": 95,
     "metadata": {},
     "output_type": "execute_result"
    }
   ],
   "source": [
    "list1.get_length()"
   ]
  },
  {
   "cell_type": "code",
   "execution_count": 96,
   "id": "e643b058-acd4-47a2-82e0-a0b4c4ee168a",
   "metadata": {},
   "outputs": [
    {
     "name": "stdout",
     "output_type": "stream",
     "text": [
      "START -> 10 -> 20 -> 30 -> 50 -> 60 -> END\n"
     ]
    }
   ],
   "source": [
    "list1.display()"
   ]
  },
  {
   "cell_type": "code",
   "execution_count": 97,
   "id": "7ab9fb34-cabf-48fb-89e5-54f152c5d3d8",
   "metadata": {},
   "outputs": [],
   "source": [
    "list1.remove(0)\n",
    "list1.remove(3)"
   ]
  },
  {
   "cell_type": "code",
   "execution_count": 98,
   "id": "65cfa18a-6b49-49b8-a23d-e0275020b81e",
   "metadata": {},
   "outputs": [
    {
     "data": {
      "text/plain": [
       "(3, 20, 50)"
      ]
     },
     "execution_count": 98,
     "metadata": {},
     "output_type": "execute_result"
    }
   ],
   "source": [
    "list1.get_length(), list1.get_head_element(), list1.get_tail_element()"
   ]
  },
  {
   "cell_type": "code",
   "execution_count": 99,
   "id": "8a75bd6e-c0e7-4131-ba7d-aed074bf46a5",
   "metadata": {},
   "outputs": [
    {
     "name": "stdout",
     "output_type": "stream",
     "text": [
      "START -> 20 -> 30 -> 50 -> END\n"
     ]
    }
   ],
   "source": [
    "list1.display()"
   ]
  },
  {
   "cell_type": "code",
   "execution_count": 100,
   "id": "b872c47b-4823-4127-9619-0aa004ee9e73",
   "metadata": {},
   "outputs": [],
   "source": [
    "list1.remove(0)"
   ]
  },
  {
   "cell_type": "code",
   "execution_count": 101,
   "id": "7f92d11a-2ddb-4be1-99c0-eaaf264eddb4",
   "metadata": {},
   "outputs": [
    {
     "name": "stdout",
     "output_type": "stream",
     "text": [
      "START -> 30 -> 50 -> END\n"
     ]
    }
   ],
   "source": [
    "list1.display()"
   ]
  },
  {
   "cell_type": "code",
   "execution_count": 102,
   "id": "92907e9b-9e72-4ce5-a2a7-ac3160e6651e",
   "metadata": {},
   "outputs": [
    {
     "data": {
      "text/plain": [
       "(2, 30, 50)"
      ]
     },
     "execution_count": 102,
     "metadata": {},
     "output_type": "execute_result"
    }
   ],
   "source": [
    "list1.get_length(), list1.get_head_element(), list1.get_tail_element()"
   ]
  },
  {
   "cell_type": "code",
   "execution_count": 103,
   "id": "45960425-a629-4364-a5fa-8bd1e4b56e3b",
   "metadata": {},
   "outputs": [
    {
     "data": {
      "text/plain": [
       "(1, 30, 30)"
      ]
     },
     "execution_count": 103,
     "metadata": {},
     "output_type": "execute_result"
    }
   ],
   "source": [
    "list1.remove(1)\n",
    "list1.get_length(), list1.get_head_element(), list1.get_tail_element()"
   ]
  },
  {
   "cell_type": "code",
   "execution_count": 104,
   "id": "83b140db-f825-4898-9e2e-6584d4c29cb3",
   "metadata": {},
   "outputs": [
    {
     "data": {
      "text/plain": [
       "(0, True)"
      ]
     },
     "execution_count": 104,
     "metadata": {},
     "output_type": "execute_result"
    }
   ],
   "source": [
    "list1.remove(0)\n",
    "list1.get_length(), list1.is_empty()"
   ]
  },
  {
   "cell_type": "markdown",
   "id": "6579329d-0262-4b10-abb3-2800b5315ac8",
   "metadata": {},
   "source": [
    "# Doubly Linked List Implementation"
   ]
  },
  {
   "cell_type": "code",
   "execution_count": null,
   "id": "53d83579-660b-4c8c-a452-328aef7214af",
   "metadata": {},
   "outputs": [],
   "source": []
  }
 ],
 "metadata": {
  "kernelspec": {
   "display_name": "Python 3 (ipykernel)",
   "language": "python",
   "name": "python3"
  },
  "language_info": {
   "codemirror_mode": {
    "name": "ipython",
    "version": 3
   },
   "file_extension": ".py",
   "mimetype": "text/x-python",
   "name": "python",
   "nbconvert_exporter": "python",
   "pygments_lexer": "ipython3",
   "version": "3.12.1"
  }
 },
 "nbformat": 4,
 "nbformat_minor": 5
}
