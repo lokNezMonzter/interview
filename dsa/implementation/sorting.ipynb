{
 "cells": [
  {
   "metadata": {},
   "cell_type": "markdown",
   "source": [
    "# Sorting\n",
    "\n",
    "## Insertion Sort\n",
    "\n",
    "- At every iteration **i** the array to the left of **i** must be sorted\n",
    "- At every iteration **i** compare element **arr[i] = K** with **arr[i-1]**\n",
    "- If during comparison `arr[i] > arr[i-1]` swap **K** with **arr[i-1]** and repeat process\n",
    "\n",
    "#### Analysis\n",
    "\n",
    "- Worst case time complexity: **O(N^2)** (we do **n-1** comparisons and **n-1** swaps in worst case for every element)\n",
    "- Best case time complexity: **O(N)** (array is sorted or almost sorted)\n",
    "- Stable sorting algorithm\n",
    "- Space complexity: **O(1)** as the sorting is in-place "
   ],
   "id": "7bbaa70388344693"
  },
  {
   "metadata": {
    "ExecuteTime": {
     "end_time": "2024-10-28T17:06:59.791536Z",
     "start_time": "2024-10-28T17:06:59.787663Z"
    }
   },
   "cell_type": "code",
   "source": [
    "# insertion sort implementation\n",
    "def insertion_sort(arr):\n",
    "    n = len(arr)\n",
    "    \n",
    "    # iterate over the array\n",
    "    for i in range(n):\n",
    "        j = i-1\n",
    "        \n",
    "        # compare with every element on left and swap if required\n",
    "        while j >= 0 and arr[j+1] < arr[j]:\n",
    "            temp = arr[j+1]\n",
    "            arr[j+1] = arr[j]\n",
    "            arr[j] = temp\n",
    "            j -= 1\n",
    "            \n",
    "    return arr\n",
    "            "
   ],
   "id": "b6006a177bf4b1c3",
   "outputs": [],
   "execution_count": 33
  },
  {
   "metadata": {
    "ExecuteTime": {
     "end_time": "2024-10-28T17:07:00.297293Z",
     "start_time": "2024-10-28T17:07:00.295002Z"
    }
   },
   "cell_type": "code",
   "source": [
    "buffer = [7, 10, 2, 12, 5, 1, 8]\n",
    "print(f\"before sorting: {buffer}\")\n",
    "print(f\"after sorting: {insertion_sort(buffer)}\")"
   ],
   "id": "7c1ca70b4d80b5f5",
   "outputs": [
    {
     "name": "stdout",
     "output_type": "stream",
     "text": [
      "before sorting: [7, 10, 2, 12, 5, 1, 8]\n",
      "after sorting: [1, 2, 5, 7, 8, 10, 12]\n"
     ]
    }
   ],
   "execution_count": 34
  },
  {
   "metadata": {
    "ExecuteTime": {
     "end_time": "2024-10-28T10:19:09.380097Z",
     "start_time": "2024-10-28T10:19:09.377599Z"
    }
   },
   "cell_type": "code",
   "source": [
    "buffer = [1, 2, 3, 4, 5, 6]\n",
    "print(f\"before sorting: {buffer}\")\n",
    "print(f\"after sorting: {insertion_sort(buffer)}\")"
   ],
   "id": "4f14b0321ce2e426",
   "outputs": [
    {
     "name": "stdout",
     "output_type": "stream",
     "text": [
      "before sorting: [1, 2, 3, 4, 5, 6]\n",
      "after sorting: [1, 2, 3, 4, 5, 6]\n"
     ]
    }
   ],
   "execution_count": 14
  },
  {
   "metadata": {
    "ExecuteTime": {
     "end_time": "2024-10-28T10:19:21.034009Z",
     "start_time": "2024-10-28T10:19:21.031452Z"
    }
   },
   "cell_type": "code",
   "source": [
    "buffer = [50, 40, 30, 20, 10]\n",
    "print(f\"before sorting: {buffer}\")\n",
    "print(f\"after sorting: {insertion_sort(buffer)}\")"
   ],
   "id": "82183485fbc7deba",
   "outputs": [
    {
     "name": "stdout",
     "output_type": "stream",
     "text": [
      "before sorting: [50, 40, 30, 20, 10]\n",
      "after sorting: [10, 20, 30, 40, 50]\n"
     ]
    }
   ],
   "execution_count": 15
  },
  {
   "metadata": {},
   "cell_type": "markdown",
   "source": [
    "## Merge Sort\n",
    "\n",
    "- Divide and conquer based sorting algorithm\n",
    "- Divide the array into two halves and sort each half \n",
    "- Merge the sorted halves into final array\n",
    "\n",
    "#### Analysis\n",
    "\n",
    "- Worst case time complexity: **O(n*log(n))** (~ O(n) comparisons; ~ O(n) access in each level; O(log(n)) levels)\n",
    "- Average case time complexity: **O(n*log(n))**\n",
    "- Best case time complexity: **O(n*log(n))**\n",
    "- Space complexity: **O(n)** to merge the two largest sorted sub arrays into single array\n",
    "- Out of place sorting algorithm\n",
    "- Stable sorting algorithm\n"
   ],
   "id": "174615829da61815"
  },
  {
   "metadata": {
    "ExecuteTime": {
     "end_time": "2024-10-28T17:01:45.937334Z",
     "start_time": "2024-10-28T17:01:45.932574Z"
    }
   },
   "cell_type": "code",
   "source": [
    "# merge two sorted subarrays\n",
    "def merge(arr, start, middle, end):\n",
    "    # store in temp array\n",
    "    left = arr[start : middle + 1] # left sorted subarray\n",
    "    right = arr[middle + 1 : end + 1] # right sorted subarray\n",
    "    \n",
    "    i = 0 # start index for left subarray\n",
    "    j = 0 # start index for right subarray\n",
    "    k = start # current insert index\n",
    "    \n",
    "    # compare left and right subarray and insert smaller element\n",
    "    while i < len(left) and j < len(right):\n",
    "        if left[i] <= right[j]:\n",
    "            arr[k] = left[i]\n",
    "            i += 1\n",
    "        else:\n",
    "            arr[k] = right[j]\n",
    "            j += 1\n",
    "        k += 1\n",
    "        \n",
    "    # insert leftover elements from left subarray\n",
    "    while i < len(left):\n",
    "        arr[k] = left[i]\n",
    "        i += 1\n",
    "        k += 1\n",
    "        \n",
    "    # insert leftover elements from right subaray\n",
    "    while j < len(right):\n",
    "        arr[k] = right[j]\n",
    "        j += 1\n",
    "        k += 1\n",
    " \n",
    "        \n",
    "# merge sort implementation\n",
    "def mergesort(arr, start, end):\n",
    "    # check if array length 1\n",
    "    if end - start + 1 <= 1:\n",
    "        return\n",
    "    \n",
    "    # calculate middle index and perform merge sort on either half\n",
    "    middle = (start + end) // 2\n",
    "    \n",
    "    mergesort(arr, start, middle) # left subarray\n",
    "    mergesort(arr, middle + 1, end)\n",
    "    \n",
    "    # merge the two sorted subarray\n",
    "    merge(arr, start, middle, end)\n",
    "    \n",
    "    \n",
    "# merge sort main method\n",
    "def main(arr):\n",
    "    mergesort(arr, 0, len(arr) - 1)\n",
    "    return arr"
   ],
   "id": "2f95cb286221450f",
   "outputs": [],
   "execution_count": 21
  },
  {
   "metadata": {
    "ExecuteTime": {
     "end_time": "2024-10-28T17:01:47.638617Z",
     "start_time": "2024-10-28T17:01:47.634943Z"
    }
   },
   "cell_type": "code",
   "source": [
    "buffer = [4, 12, 1, 9, 17, 2]\n",
    "print(f\"before sorting: {buffer}\")\n",
    "print(f\"after sorting: {main(buffer)}\")"
   ],
   "id": "9cc0d161b771c3c0",
   "outputs": [
    {
     "name": "stdout",
     "output_type": "stream",
     "text": [
      "before sorting: [4, 12, 1, 9, 17, 2]\n",
      "after sorting: [1, 2, 4, 9, 12, 17]\n"
     ]
    }
   ],
   "execution_count": 22
  },
  {
   "metadata": {
    "ExecuteTime": {
     "end_time": "2024-10-28T17:02:04.996472Z",
     "start_time": "2024-10-28T17:02:04.993567Z"
    }
   },
   "cell_type": "code",
   "source": [
    "buffer = [1, 1, 2, 5, 1, 3, 2, 4, 5, 2, 1]\n",
    "print(f\"before sorting: {buffer}\")\n",
    "print(f\"after sorting: {main(buffer)}\")"
   ],
   "id": "d2872650d9d3f592",
   "outputs": [
    {
     "name": "stdout",
     "output_type": "stream",
     "text": [
      "before sorting: [1, 1, 2, 5, 1, 3, 2, 4, 5, 2, 1]\n",
      "after sorting: [1, 1, 1, 1, 2, 2, 2, 3, 4, 5, 5]\n"
     ]
    }
   ],
   "execution_count": 23
  },
  {
   "metadata": {
    "ExecuteTime": {
     "end_time": "2024-10-28T17:02:30.419290Z",
     "start_time": "2024-10-28T17:02:30.416044Z"
    }
   },
   "cell_type": "code",
   "source": [
    "buffer = [10, 20, 30, 40, 50]\n",
    "print(f\"before sorting: {buffer}\")\n",
    "print(f\"after sorting: {main(buffer)}\")"
   ],
   "id": "48daccf58d795a42",
   "outputs": [
    {
     "name": "stdout",
     "output_type": "stream",
     "text": [
      "before sorting: [10, 20, 30, 40, 50]\n",
      "after sorting: [10, 20, 30, 40, 50]\n"
     ]
    }
   ],
   "execution_count": 24
  },
  {
   "metadata": {
    "ExecuteTime": {
     "end_time": "2024-10-28T17:02:47.225924Z",
     "start_time": "2024-10-28T17:02:47.222427Z"
    }
   },
   "cell_type": "code",
   "source": [
    "buffer = [5, 4, 3, 2, 1]\n",
    "print(f\"before sorting: {buffer}\")\n",
    "print(f\"after sorting: {main(buffer)}\")"
   ],
   "id": "9bad1deb46fb8cc8",
   "outputs": [
    {
     "name": "stdout",
     "output_type": "stream",
     "text": [
      "before sorting: [5, 4, 3, 2, 1]\n",
      "after sorting: [1, 2, 3, 4, 5]\n"
     ]
    }
   ],
   "execution_count": 25
  },
  {
   "metadata": {},
   "cell_type": "markdown",
   "source": [
    "## Quicksort\n",
    "\n",
    "- Divide and conquer based algorithm\n",
    "- Partition the array into two parts around a pivot\n",
    "- At any given time, the sub-array to the left of the pivot is lesser than the pivot\n",
    "- At any given time the sub-array to the right of the pivot is greater than the pivot\n",
    "- For both the above cases the elements in the sub-array need not be sorted till the algorithm completes\n",
    "\n",
    "#### Analysis\n",
    "- Average case time complexity: **O(n*log(n))** (pivot splits the array into almost equal sub-arrays)\n",
    "- Worst case time complexity: **O(n^2) (array is sorted, pivot splits the array into (n-1) and 1 on every iteration therefore giving O(n) levels)\n",
    "- Space complexity: O(1)\n",
    "- In-pace sorting algorithm\n",
    "- Unstable sorting algorithm"
   ],
   "id": "c1b33608b4f1bbb"
  },
  {
   "metadata": {
    "ExecuteTime": {
     "end_time": "2024-10-28T17:02:56.299933Z",
     "start_time": "2024-10-28T17:02:56.295447Z"
    }
   },
   "cell_type": "code",
   "source": [
    "# quicksort implementation\n",
    "def quicksort(arr, start, end):\n",
    "    # check if sub-array length is 1\n",
    "    if end - start + 1 <= 1:\n",
    "        return\n",
    "    \n",
    "    pivot = arr[end] # pivot element\n",
    "    left = start # initital swap index\n",
    "    \n",
    "    # iterate over the sub-array\n",
    "    for i in range(start, end):\n",
    "        # swap with left index if current element lesser than pivot\n",
    "        if arr[i] < pivot:\n",
    "            temp = arr[i]\n",
    "            arr[i] = arr[left]\n",
    "            arr[left] = temp\n",
    "            left += 1 # increment left for next swap index\n",
    "    \n",
    "    # swap pivot with last swap index\n",
    "    arr[end] = arr[left]\n",
    "    arr[left] = pivot\n",
    "    \n",
    "    # break into left and right sub-array around pivot\n",
    "    # exclude current pivot for further sorting\n",
    "    quicksort(arr, start, left - 1) # recurse over the left sub-array\n",
    "    quicksort(arr, left + 1, end) # recurse over the right sub-array\n",
    "    \n",
    "\n",
    "# main method for quicksort\n",
    "def main(arr):\n",
    "    quicksort(arr, 0, len(arr) - 1)\n",
    "    return arr"
   ],
   "id": "d8e9900b06277359",
   "outputs": [],
   "execution_count": 26
  },
  {
   "metadata": {
    "ExecuteTime": {
     "end_time": "2024-10-28T17:02:57.146067Z",
     "start_time": "2024-10-28T17:02:57.142888Z"
    }
   },
   "cell_type": "code",
   "source": [
    "buffer = [14, 7, 9, 2, 20, 1, 3]\n",
    "print(f\"before sorting: {buffer}\")\n",
    "print(f\"after sorting: {main(buffer)}\")"
   ],
   "id": "f689a4dea680cc63",
   "outputs": [
    {
     "name": "stdout",
     "output_type": "stream",
     "text": [
      "before sorting: [14, 7, 9, 2, 20, 1, 3]\n",
      "after sorting: [1, 2, 3, 7, 9, 14, 20]\n"
     ]
    }
   ],
   "execution_count": 27
  },
  {
   "metadata": {
    "ExecuteTime": {
     "end_time": "2024-10-28T17:03:07.447940Z",
     "start_time": "2024-10-28T17:03:07.444118Z"
    }
   },
   "cell_type": "code",
   "source": [
    "buffer = [1, 1, 2, 5, 1, 3, 2, 4, 5, 2, 1]\n",
    "print(f\"before sorting: {buffer}\")\n",
    "print(f\"after sorting: {main(buffer)}\")"
   ],
   "id": "3fa94ff8cba549a1",
   "outputs": [
    {
     "name": "stdout",
     "output_type": "stream",
     "text": [
      "before sorting: [1, 1, 2, 5, 1, 3, 2, 4, 5, 2, 1]\n",
      "after sorting: [1, 1, 1, 1, 2, 2, 2, 3, 4, 5, 5]\n"
     ]
    }
   ],
   "execution_count": 28
  },
  {
   "metadata": {
    "ExecuteTime": {
     "end_time": "2024-10-28T17:03:30.923860Z",
     "start_time": "2024-10-28T17:03:30.920131Z"
    }
   },
   "cell_type": "code",
   "source": [
    "buffer = [10, 20, 30, 40, 50]\n",
    "print(f\"before sorting: {buffer}\")\n",
    "print(f\"after sorting: {main(buffer)}\")"
   ],
   "id": "61668463835032ad",
   "outputs": [
    {
     "name": "stdout",
     "output_type": "stream",
     "text": [
      "before sorting: [10, 20, 30, 40, 50]\n",
      "after sorting: [10, 20, 30, 40, 50]\n"
     ]
    }
   ],
   "execution_count": 29
  },
  {
   "metadata": {
    "ExecuteTime": {
     "end_time": "2024-10-28T17:03:42.247061Z",
     "start_time": "2024-10-28T17:03:42.243590Z"
    }
   },
   "cell_type": "code",
   "source": [
    "buffer = [5, 4, 3, 2, 1]\n",
    "print(f\"before sorting: {buffer}\")\n",
    "print(f\"after sorting: {main(buffer)}\")"
   ],
   "id": "f7c40a91d48e1b17",
   "outputs": [
    {
     "name": "stdout",
     "output_type": "stream",
     "text": [
      "before sorting: [5, 4, 3, 2, 1]\n",
      "after sorting: [1, 2, 3, 4, 5]\n"
     ]
    }
   ],
   "execution_count": 30
  },
  {
   "metadata": {
    "ExecuteTime": {
     "end_time": "2024-10-28T17:07:32.888432Z",
     "start_time": "2024-10-28T17:07:32.884103Z"
    }
   },
   "cell_type": "code",
   "source": [
    "# helper method to combine all sorting functions into single\n",
    "def sort(arr, algorithm=None):\n",
    "    if algorithm is None:\n",
    "        raise Exception(\"missing argument 'algorithm'\")\n",
    "    \n",
    "    if algorithm == 'insertion_sort':\n",
    "        arr = insertion_sort(arr)\n",
    "        \n",
    "    if algorithm == 'merge_sort':\n",
    "        mergesort(arr, 0, len(arr) - 1)\n",
    "        \n",
    "    if algorithm == 'quick_sort':\n",
    "        quicksort(arr, 0, len(arr) - 1)\n",
    "        \n",
    "    return arr"
   ],
   "id": "abb5d8aef284eb17",
   "outputs": [],
   "execution_count": 35
  },
  {
   "metadata": {
    "ExecuteTime": {
     "end_time": "2024-10-28T17:08:19.417390Z",
     "start_time": "2024-10-28T17:08:19.413536Z"
    }
   },
   "cell_type": "code",
   "source": [
    "lst = [14, 7, 9, 2, 20, 1, 3]\n",
    "print(f\"before sorting: {lst}\")\n",
    "print(f\"after sorting: {sort(lst, 'insertion_sort')}\")"
   ],
   "id": "83b04efe064a4b58",
   "outputs": [
    {
     "name": "stdout",
     "output_type": "stream",
     "text": [
      "before sorting: [14, 7, 9, 2, 20, 1, 3]\n",
      "after sorting: [1, 2, 3, 7, 9, 14, 20]\n"
     ]
    }
   ],
   "execution_count": 36
  },
  {
   "metadata": {
    "ExecuteTime": {
     "end_time": "2024-10-28T17:08:37.501982Z",
     "start_time": "2024-10-28T17:08:37.498625Z"
    }
   },
   "cell_type": "code",
   "source": [
    "lst = [14, 7, 9, 2, 20, 1, 3]\n",
    "print(f\"before sorting: {lst}\")\n",
    "print(f\"after sorting: {sort(lst, 'merge_sort')}\")"
   ],
   "id": "f76421dfc5882b08",
   "outputs": [
    {
     "name": "stdout",
     "output_type": "stream",
     "text": [
      "before sorting: [14, 7, 9, 2, 20, 1, 3]\n",
      "after sorting: [1, 2, 3, 7, 9, 14, 20]\n"
     ]
    }
   ],
   "execution_count": 37
  },
  {
   "metadata": {
    "ExecuteTime": {
     "end_time": "2024-10-28T17:08:46.297265Z",
     "start_time": "2024-10-28T17:08:46.293859Z"
    }
   },
   "cell_type": "code",
   "source": [
    "lst = [14, 7, 9, 2, 20, 1, 3]\n",
    "print(f\"before sorting: {lst}\")\n",
    "print(f\"after sorting: {sort(lst, 'quick_sort')}\")"
   ],
   "id": "3a58cf5d304add05",
   "outputs": [
    {
     "name": "stdout",
     "output_type": "stream",
     "text": [
      "before sorting: [14, 7, 9, 2, 20, 1, 3]\n",
      "after sorting: [1, 2, 3, 7, 9, 14, 20]\n"
     ]
    }
   ],
   "execution_count": 38
  },
  {
   "metadata": {
    "ExecuteTime": {
     "end_time": "2024-10-29T05:24:37.017810Z",
     "start_time": "2024-10-29T05:24:37.000893Z"
    }
   },
   "cell_type": "code",
   "source": [
    "lst = [14, 7, 9, 2, 20, 1, 3]\n",
    "print(f\"before sorting: {lst}\")\n",
    "print(f\"after sorting: {sort(lst)}\")"
   ],
   "id": "766d4638ba32cb10",
   "outputs": [
    {
     "name": "stdout",
     "output_type": "stream",
     "text": [
      "before sorting: [14, 7, 9, 2, 20, 1, 3]\n"
     ]
    },
    {
     "ename": "Exception",
     "evalue": "missing argument 'algorithm'",
     "output_type": "error",
     "traceback": [
      "\u001B[0;31m---------------------------------------------------------------------------\u001B[0m",
      "\u001B[0;31mException\u001B[0m                                 Traceback (most recent call last)",
      "Cell \u001B[0;32mIn[40], line 3\u001B[0m\n\u001B[1;32m      1\u001B[0m lst \u001B[38;5;241m=\u001B[39m [\u001B[38;5;241m14\u001B[39m, \u001B[38;5;241m7\u001B[39m, \u001B[38;5;241m9\u001B[39m, \u001B[38;5;241m2\u001B[39m, \u001B[38;5;241m20\u001B[39m, \u001B[38;5;241m1\u001B[39m, \u001B[38;5;241m3\u001B[39m]\n\u001B[1;32m      2\u001B[0m \u001B[38;5;28mprint\u001B[39m(\u001B[38;5;124mf\u001B[39m\u001B[38;5;124m\"\u001B[39m\u001B[38;5;124mbefore sorting: \u001B[39m\u001B[38;5;132;01m{\u001B[39;00mlst\u001B[38;5;132;01m}\u001B[39;00m\u001B[38;5;124m\"\u001B[39m)\n\u001B[0;32m----> 3\u001B[0m \u001B[38;5;28mprint\u001B[39m(\u001B[38;5;124mf\u001B[39m\u001B[38;5;124m\"\u001B[39m\u001B[38;5;124mafter sorting: \u001B[39m\u001B[38;5;132;01m{\u001B[39;00m\u001B[43msort\u001B[49m\u001B[43m(\u001B[49m\u001B[43mlst\u001B[49m\u001B[43m)\u001B[49m\u001B[38;5;132;01m}\u001B[39;00m\u001B[38;5;124m\"\u001B[39m)\n",
      "Cell \u001B[0;32mIn[35], line 4\u001B[0m, in \u001B[0;36msort\u001B[0;34m(arr, algorithm)\u001B[0m\n\u001B[1;32m      2\u001B[0m \u001B[38;5;28;01mdef\u001B[39;00m \u001B[38;5;21msort\u001B[39m(arr, algorithm\u001B[38;5;241m=\u001B[39m\u001B[38;5;28;01mNone\u001B[39;00m):\n\u001B[1;32m      3\u001B[0m     \u001B[38;5;28;01mif\u001B[39;00m algorithm \u001B[38;5;129;01mis\u001B[39;00m \u001B[38;5;28;01mNone\u001B[39;00m:\n\u001B[0;32m----> 4\u001B[0m         \u001B[38;5;28;01mraise\u001B[39;00m \u001B[38;5;167;01mException\u001B[39;00m(\u001B[38;5;124m\"\u001B[39m\u001B[38;5;124mmissing argument \u001B[39m\u001B[38;5;124m'\u001B[39m\u001B[38;5;124malgorithm\u001B[39m\u001B[38;5;124m'\u001B[39m\u001B[38;5;124m\"\u001B[39m)\n\u001B[1;32m      6\u001B[0m     \u001B[38;5;28;01mif\u001B[39;00m algorithm \u001B[38;5;241m==\u001B[39m \u001B[38;5;124m'\u001B[39m\u001B[38;5;124minsertion_sort\u001B[39m\u001B[38;5;124m'\u001B[39m:\n\u001B[1;32m      7\u001B[0m         arr \u001B[38;5;241m=\u001B[39m insertion_sort(arr)\n",
      "\u001B[0;31mException\u001B[0m: missing argument 'algorithm'"
     ]
    }
   ],
   "execution_count": 40
  },
  {
   "metadata": {},
   "cell_type": "markdown",
   "source": [
    "## Bucket Sort\n",
    "- Special sorting algorithm that sorts very fast\n",
    "- Values need to be within a **constant range divided into buckets**\n",
    "- Maintain a count of each bucket item\n",
    "- Fill the count of each bucket item in array\n",
    "\n",
    "#### Analysis:\n",
    "- Time Complexity (all cases): **O(n)**\n",
    "- Space Complexity: **O(m)** where **m** is the size of the bucket\n",
    "- Unstable sorting algorithm\n",
    "- In place sorting algorithm"
   ],
   "id": "62993b17b42b2190"
  },
  {
   "metadata": {
    "ExecuteTime": {
     "end_time": "2024-10-29T05:35:47.399948Z",
     "start_time": "2024-10-29T05:35:47.396332Z"
    }
   },
   "cell_type": "code",
   "source": [
    "# bucket sort implementation\n",
    "def bucket_sort(arr, buckets):\n",
    "    # initialize count of bucket items\n",
    "    counts = [0] * len(buckets)\n",
    "    \n",
    "    i = 0 # starting index for buckets\n",
    "    \n",
    "    # update the counts for each bucket item\n",
    "    while i < len(buckets):\n",
    "        for n in arr:\n",
    "            if n == buckets[i]:\n",
    "                counts[i] += 1\n",
    "        i += 1 # move the pointer to the next element in buckets\n",
    "        \n",
    "    j = 0 # starting index to update the array\n",
    "    for i in range(len(buckets)):\n",
    "        for _ in range(counts[i]): \n",
    "            arr[j] = buckets[i]\n",
    "            j += 1\n",
    "            \n",
    "    return arr"
   ],
   "id": "d0bb13974c8c158a",
   "outputs": [],
   "execution_count": 46
  },
  {
   "metadata": {
    "ExecuteTime": {
     "end_time": "2024-10-29T05:35:48.073586Z",
     "start_time": "2024-10-29T05:35:48.070954Z"
    }
   },
   "cell_type": "code",
   "source": [
    "buffer = [5, 9, 3, 5, 3, 9, 5, 3]\n",
    "print(f\"before sorting: {buffer}\")\n",
    "print(f\"after sorting: {bucket_sort(buffer, [3, 5, 9])}\")"
   ],
   "id": "d3a61d95f775a53a",
   "outputs": [
    {
     "name": "stdout",
     "output_type": "stream",
     "text": [
      "before sorting: [5, 9, 3, 5, 3, 9, 5, 3]\n",
      "after sorting: [3, 3, 3, 5, 5, 5, 9, 9]\n"
     ]
    }
   ],
   "execution_count": 47
  },
  {
   "metadata": {
    "ExecuteTime": {
     "end_time": "2024-10-29T05:36:23.248170Z",
     "start_time": "2024-10-29T05:36:23.245369Z"
    }
   },
   "cell_type": "code",
   "source": [
    "buffer = [1, 1, 2, 5, 1, 3, 2, 4, 5, 2, 1]\n",
    "print(f\"before sorting: {buffer}\")\n",
    "print(f\"after sorting: {bucket_sort(buffer, [1, 2, 3, 4, 5])}\")"
   ],
   "id": "19fa85ddc98423fe",
   "outputs": [
    {
     "name": "stdout",
     "output_type": "stream",
     "text": [
      "before sorting: [1, 1, 2, 5, 1, 3, 2, 4, 5, 2, 1]\n",
      "after sorting: [1, 1, 1, 1, 2, 2, 2, 3, 4, 5, 5]\n"
     ]
    }
   ],
   "execution_count": 48
  },
  {
   "metadata": {
    "ExecuteTime": {
     "end_time": "2024-10-29T05:37:22.963093Z",
     "start_time": "2024-10-29T05:37:22.959399Z"
    }
   },
   "cell_type": "code",
   "source": [
    "buffer = [0, 0, 1, 0, 0, 1, 0, 1, 1]\n",
    "print(f\"before sorting: {buffer}\")\n",
    "print(f\"after sorting: {bucket_sort(buffer, [0, 1])}\")"
   ],
   "id": "6cf956f9fffd74b4",
   "outputs": [
    {
     "name": "stdout",
     "output_type": "stream",
     "text": [
      "before sorting: [0, 0, 1, 0, 0, 1, 0, 1, 1]\n",
      "after sorting: [0, 0, 0, 0, 0, 1, 1, 1, 1]\n"
     ]
    }
   ],
   "execution_count": 49
  },
  {
   "metadata": {},
   "cell_type": "code",
   "outputs": [],
   "execution_count": null,
   "source": "",
   "id": "e3d1047619ac9598"
  }
 ],
 "metadata": {
  "kernelspec": {
   "display_name": "Python 3",
   "language": "python",
   "name": "python3"
  },
  "language_info": {
   "codemirror_mode": {
    "name": "ipython",
    "version": 2
   },
   "file_extension": ".py",
   "mimetype": "text/x-python",
   "name": "python",
   "nbconvert_exporter": "python",
   "pygments_lexer": "ipython2",
   "version": "2.7.6"
  }
 },
 "nbformat": 4,
 "nbformat_minor": 5
}
