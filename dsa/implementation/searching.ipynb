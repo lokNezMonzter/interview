{
 "cells": [
  {
   "metadata": {},
   "cell_type": "markdown",
   "source": "# Basic Searching Algorithms",
   "id": "f8c2342398cb3bbf"
  },
  {
   "metadata": {},
   "cell_type": "markdown",
   "source": [
    "## Binary Search\n",
    "\n",
    "- Maintain 2 pointers `high` and `low` to the respective ends of array\n",
    "- Calculate the middle index\n",
    "- At every iteration, compare if middle element is greater than, lesser than or equal to search key\n",
    "- If middle element is smaller than key, update `low` pointer to `mid + 1` index\n",
    "- If middle element is larger than key update `high` pointer to `mid - 1` index\n",
    "- Return **-1** if key not found\n",
    "\n",
    "#### Analysis\n",
    "\n",
    "- Time Complexity (all cases): **O(n*log(n))** (each iteration, we divide the array length by 2)\n",
    "- Space Complexity: **O(1)**"
   ],
   "id": "203b382880c9be32"
  },
  {
   "metadata": {
    "ExecuteTime": {
     "end_time": "2024-10-29T02:05:51.352410Z",
     "start_time": "2024-10-29T02:05:51.349362Z"
    }
   },
   "cell_type": "code",
   "source": [
    "# binary search iterative implementation\n",
    "def binary_search(arr, key):\n",
    "    low = 0\n",
    "    high = len(arr) - 1\n",
    "    \n",
    "    # iterate till the low pointer does not cross the high pointer\n",
    "    while low <= high:\n",
    "        # calculate middle index\n",
    "        mid = low + (high - low) // 2\n",
    "        \n",
    "        if arr[mid] < key:\n",
    "            low = mid + 1 # if middle element lesser, search on right of mid\n",
    "        \n",
    "        elif arr[mid] > key:\n",
    "            high = mid - 1 # if middle element larger, search on left of mid\n",
    "            \n",
    "        else:\n",
    "            return True # key found\n",
    "        \n",
    "    # search key not found\n",
    "    return False"
   ],
   "id": "69161619393cf12b",
   "outputs": [],
   "execution_count": 1
  },
  {
   "metadata": {
    "ExecuteTime": {
     "end_time": "2024-10-29T02:08:02.267078Z",
     "start_time": "2024-10-29T02:08:02.264204Z"
    }
   },
   "cell_type": "code",
   "source": [
    "buff = [10, 20, 30, 40, 50, 60]\n",
    "search_keys = [10, 20, 90, 1, 21, 32, 60, 100, 50, 30, 70]\n",
    "\n",
    "print(f\"buffer {buff}\\n\")\n",
    "for key in search_keys:\n",
    "    print(f\"{key} exists in buffer? {binary_search(buff, key)}\")"
   ],
   "id": "af648a3a31078775",
   "outputs": [
    {
     "name": "stdout",
     "output_type": "stream",
     "text": [
      "buffer [10, 20, 30, 40, 50, 60]\n",
      "\n",
      "10 exists in buffer? True\n",
      "20 exists in buffer? True\n",
      "90 exists in buffer? False\n",
      "1 exists in buffer? False\n",
      "21 exists in buffer? False\n",
      "32 exists in buffer? False\n",
      "60 exists in buffer? True\n",
      "100 exists in buffer? False\n",
      "50 exists in buffer? True\n",
      "30 exists in buffer? True\n",
      "70 exists in buffer? False\n"
     ]
    }
   ],
   "execution_count": 2
  },
  {
   "metadata": {},
   "cell_type": "markdown",
   "source": [
    "## Binary Search Range\n",
    "\n",
    "- Search over a range of values instead of array\n",
    "- Algorithm remains same\n",
    "\n",
    "#### Analysis\n",
    "- Time Complexity (all cases): **O(n*log(n))**\n",
    "- Space Complextiy: **O(1)**"
   ],
   "id": "7246056d770fe5e"
  },
  {
   "metadata": {
    "ExecuteTime": {
     "end_time": "2024-10-29T03:00:59.571589Z",
     "start_time": "2024-10-29T03:00:59.567981Z"
    }
   },
   "cell_type": "code",
   "source": [
    "def guess(n):\n",
    "    if n < 10:\n",
    "        return -1\n",
    "    elif n > 10:\n",
    "        return 1\n",
    "    else:\n",
    "        return 0\n",
    "\n",
    "def search_range(low, high):\n",
    "    while low <= high:\n",
    "        mid = low + (high - low) // 2\n",
    "        if guess(mid) < 0:\n",
    "            low = mid + 1\n",
    "        elif guess(mid) > 0:\n",
    "            high = mid - 1\n",
    "        else:\n",
    "            return mid\n",
    "    return float('NaN')\n",
    "            "
   ],
   "id": "26329ed9b4f4759e",
   "outputs": [],
   "execution_count": 6
  },
  {
   "metadata": {
    "ExecuteTime": {
     "end_time": "2024-10-29T03:01:19.151221Z",
     "start_time": "2024-10-29T03:01:19.147810Z"
    }
   },
   "cell_type": "code",
   "source": "search_range(10, 11)",
   "id": "98a36e01cd57e639",
   "outputs": [
    {
     "data": {
      "text/plain": [
       "10"
      ]
     },
     "execution_count": 10,
     "metadata": {},
     "output_type": "execute_result"
    }
   ],
   "execution_count": 10
  },
  {
   "metadata": {},
   "cell_type": "code",
   "outputs": [],
   "execution_count": null,
   "source": "",
   "id": "8d76a8a5fc052c70"
  }
 ],
 "metadata": {
  "kernelspec": {
   "display_name": "Python 3",
   "language": "python",
   "name": "python3"
  },
  "language_info": {
   "codemirror_mode": {
    "name": "ipython",
    "version": 2
   },
   "file_extension": ".py",
   "mimetype": "text/x-python",
   "name": "python",
   "nbconvert_exporter": "python",
   "pygments_lexer": "ipython2",
   "version": "2.7.6"
  }
 },
 "nbformat": 4,
 "nbformat_minor": 5
}
