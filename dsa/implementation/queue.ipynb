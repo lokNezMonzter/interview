{
 "cells": [
  {
   "cell_type": "markdown",
   "id": "e9be3fb1-bf70-4ce7-a9ef-252ebaf046e2",
   "metadata": {},
   "source": [
    "# Queue Implementation"
   ]
  },
  {
   "cell_type": "code",
   "execution_count": 1,
   "id": "b8690146-3786-41f0-b665-1ecb485e77e4",
   "metadata": {},
   "outputs": [],
   "source": [
    "# Implementation of node to store data\n",
    "class Node:\n",
    "    def __init__(self, value):\n",
    "        self.value = value\n",
    "        self.next = None\n",
    "\n",
    "# Singly linked list implementation to ensure O(1) enqueue and dequeue\n",
    "class Queue:\n",
    "    def __init__(self):\n",
    "        self.head = None\n",
    "        self.tail = None\n",
    "        self.size = 0\n",
    "\n",
    "    def get_length(self):\n",
    "        return self.size\n",
    "\n",
    "    def is_empty(self):\n",
    "        return self.size == 0\n",
    "\n",
    "    # insert into queue in O(1) time\n",
    "    def enqueue(self, key):\n",
    "        node = Node(key)\n",
    "\n",
    "        # when queue is empty\n",
    "        if self.is_empty():\n",
    "            self.head = node\n",
    "            self.tail = node\n",
    "            self.size = 1\n",
    "            return\n",
    "\n",
    "        # when queue not empty, insert at tail\n",
    "        self.tail.next = node\n",
    "        self.tail = self.tail.next\n",
    "        self.size = self.size + 1\n",
    "\n",
    "    # remove from queue in O(1) time\n",
    "    def dequeue(self):\n",
    "        # raise error if empty\n",
    "        if self.is_empty():\n",
    "            raise Exception(\"QUEUE_EMPTY\")\n",
    "\n",
    "        # when single element present in queue\n",
    "        if self.get_length() == 1:\n",
    "            self.head = None\n",
    "            self.tail = None\n",
    "            self.size = 0\n",
    "            return\n",
    "\n",
    "        # when multiple elements present, delete at head\n",
    "        self.head = self.head.next\n",
    "        self.size -= 1\n",
    "\n",
    "    # search for key in queue in O(n) time\n",
    "    def search(self, key):\n",
    "        # if queue empty, raise exception\n",
    "        if self.is_empty():\n",
    "            raise Exception(\"QUEUE_EMPTY\")\n",
    "\n",
    "        # if key is first or last element of queue\n",
    "        if self.head.value == key or self.tail.value == key:\n",
    "            return True\n",
    "\n",
    "        # perform iterative search otherwise\n",
    "        current = self.head\n",
    "        while current.next and current.value != key:\n",
    "            current = current.next\n",
    "\n",
    "        if current.value == key:\n",
    "            return True\n",
    "\n",
    "        return False\n",
    "\n",
    "    # display elements of queue\n",
    "    def display(self):\n",
    "        if self.is_empty():\n",
    "            raise Exception(\"QUEUE_EMPTY\")\n",
    "\n",
    "        current = self.head\n",
    "        while current != self.tail:\n",
    "            print(f\"{current.value}, \", end=\"\")\n",
    "            current = current.next\n",
    "        print(self.tail.value, end=\"\\n\")"
   ]
  },
  {
   "cell_type": "code",
   "execution_count": 5,
   "id": "83ca2ce7-4657-4661-a13d-8c7b219aefd6",
   "metadata": {},
   "outputs": [
    {
     "data": {
      "text/plain": [
       "(True, 0)"
      ]
     },
     "execution_count": 5,
     "metadata": {},
     "output_type": "execute_result"
    }
   ],
   "source": [
    "q = Queue()\n",
    "q.is_empty(), q.get_length()"
   ]
  },
  {
   "cell_type": "code",
   "execution_count": 6,
   "id": "2c2f108a-741b-4121-a4b7-c9372f443441",
   "metadata": {},
   "outputs": [],
   "source": [
    "arr = [10, 20, 30, 40, 50]\n",
    "try:\n",
    "    for el in arr:\n",
    "        q.enqueue(el)\n",
    "except Exception as e:\n",
    "    print(e)"
   ]
  },
  {
   "cell_type": "code",
   "execution_count": 7,
   "id": "a2422917-956e-434c-b407-249d896dcfad",
   "metadata": {},
   "outputs": [
    {
     "data": {
      "text/plain": [
       "(False, 5)"
      ]
     },
     "execution_count": 7,
     "metadata": {},
     "output_type": "execute_result"
    }
   ],
   "source": [
    "q.is_empty(), q.get_length()"
   ]
  },
  {
   "cell_type": "code",
   "execution_count": 8,
   "id": "256c0c59-d8e8-4425-8747-8d50980286dd",
   "metadata": {},
   "outputs": [
    {
     "name": "stdout",
     "output_type": "stream",
     "text": [
      "10, 20, 30, 40, 50\n"
     ]
    }
   ],
   "source": [
    "q.display()"
   ]
  },
  {
   "cell_type": "code",
   "execution_count": 9,
   "id": "cc3526df-9314-430e-aeaa-d0f96a08524f",
   "metadata": {},
   "outputs": [
    {
     "data": {
      "text/plain": [
       "(True, True, True, False, False)"
      ]
     },
     "execution_count": 9,
     "metadata": {},
     "output_type": "execute_result"
    }
   ],
   "source": [
    "q.search(10), q.search(50), q.search(30), q.search(0), q.search(12)"
   ]
  },
  {
   "cell_type": "code",
   "execution_count": 11,
   "id": "f42e8071-31d7-48b6-9670-732116fff9e6",
   "metadata": {},
   "outputs": [
    {
     "data": {
      "text/plain": [
       "(False, 2)"
      ]
     },
     "execution_count": 11,
     "metadata": {},
     "output_type": "execute_result"
    }
   ],
   "source": [
    "for i in range(3):\n",
    "    q.dequeue()\n",
    "q.is_empty(), q.get_length()"
   ]
  },
  {
   "cell_type": "code",
   "execution_count": 12,
   "id": "8fd4af8e-58d8-4be3-99b4-16bafd1f626d",
   "metadata": {},
   "outputs": [
    {
     "name": "stdout",
     "output_type": "stream",
     "text": [
      "40, 50\n"
     ]
    }
   ],
   "source": [
    "q.display()"
   ]
  },
  {
   "cell_type": "code",
   "execution_count": 13,
   "id": "4f47cc1e-adfa-4c53-b0f0-8751937f751d",
   "metadata": {},
   "outputs": [
    {
     "data": {
      "text/plain": [
       "(True, 0)"
      ]
     },
     "execution_count": 13,
     "metadata": {},
     "output_type": "execute_result"
    }
   ],
   "source": [
    "for i in range(2):\n",
    "    q.dequeue()\n",
    "q.is_empty(), q.get_length()"
   ]
  },
  {
   "cell_type": "code",
   "execution_count": 14,
   "id": "3c4b3f57-535d-4858-8c2d-36b6a785f381",
   "metadata": {},
   "outputs": [
    {
     "ename": "Exception",
     "evalue": "QUEUE_EMPTY",
     "output_type": "error",
     "traceback": [
      "\u001b[0;31m---------------------------------------------------------------------------\u001b[0m",
      "\u001b[0;31mException\u001b[0m                                 Traceback (most recent call last)",
      "Cell \u001b[0;32mIn[14], line 1\u001b[0m\n\u001b[0;32m----> 1\u001b[0m \u001b[43mq\u001b[49m\u001b[38;5;241;43m.\u001b[39;49m\u001b[43mdisplay\u001b[49m\u001b[43m(\u001b[49m\u001b[43m)\u001b[49m\n",
      "Cell \u001b[0;32mIn[1], line 76\u001b[0m, in \u001b[0;36mQueue.display\u001b[0;34m(self)\u001b[0m\n\u001b[1;32m     74\u001b[0m \u001b[38;5;28;01mdef\u001b[39;00m \u001b[38;5;21mdisplay\u001b[39m(\u001b[38;5;28mself\u001b[39m):\n\u001b[1;32m     75\u001b[0m     \u001b[38;5;28;01mif\u001b[39;00m \u001b[38;5;28mself\u001b[39m\u001b[38;5;241m.\u001b[39mis_empty():\n\u001b[0;32m---> 76\u001b[0m         \u001b[38;5;28;01mraise\u001b[39;00m \u001b[38;5;167;01mException\u001b[39;00m(\u001b[38;5;124m\"\u001b[39m\u001b[38;5;124mQUEUE_EMPTY\u001b[39m\u001b[38;5;124m\"\u001b[39m)\n\u001b[1;32m     78\u001b[0m     current \u001b[38;5;241m=\u001b[39m \u001b[38;5;28mself\u001b[39m\u001b[38;5;241m.\u001b[39mhead\n\u001b[1;32m     79\u001b[0m     \u001b[38;5;28;01mwhile\u001b[39;00m current \u001b[38;5;241m!=\u001b[39m \u001b[38;5;28mself\u001b[39m\u001b[38;5;241m.\u001b[39mtail:\n",
      "\u001b[0;31mException\u001b[0m: QUEUE_EMPTY"
     ]
    }
   ],
   "source": [
    "q.display()"
   ]
  },
  {
   "cell_type": "code",
   "execution_count": 15,
   "id": "72da156b-ce33-4d56-a617-6882a5f22504",
   "metadata": {},
   "outputs": [
    {
     "data": {
      "text/plain": [
       "(False, 5)"
      ]
     },
     "execution_count": 15,
     "metadata": {},
     "output_type": "execute_result"
    }
   ],
   "source": [
    "arr = [1, 2, 3, 4, 5]\n",
    "for el in arr:\n",
    "    q.enqueue(el)\n",
    "q.is_empty(), q.get_length()"
   ]
  },
  {
   "cell_type": "code",
   "execution_count": 16,
   "id": "263807d1-ddfc-46c9-98f8-adb89a1dd5a9",
   "metadata": {},
   "outputs": [
    {
     "name": "stdout",
     "output_type": "stream",
     "text": [
      "1, 2, 3, 4, 5\n"
     ]
    }
   ],
   "source": [
    "q.display()"
   ]
  },
  {
   "cell_type": "code",
   "execution_count": 18,
   "id": "e2d7ce37-61b4-4179-aae6-8de7aba2667a",
   "metadata": {},
   "outputs": [
    {
     "data": {
      "text/plain": [
       "(False, False, True, True)"
      ]
     },
     "execution_count": 18,
     "metadata": {},
     "output_type": "execute_result"
    }
   ],
   "source": [
    "q.search(10), q.search(20), q.search(1), q.search(5)"
   ]
  },
  {
   "cell_type": "code",
   "execution_count": null,
   "id": "b96df813-22e3-44cd-a9ce-e1454a909383",
   "metadata": {},
   "outputs": [],
   "source": []
  }
 ],
 "metadata": {
  "kernelspec": {
   "display_name": "Python 3 (ipykernel)",
   "language": "python",
   "name": "python3"
  },
  "language_info": {
   "codemirror_mode": {
    "name": "ipython",
    "version": 3
   },
   "file_extension": ".py",
   "mimetype": "text/x-python",
   "name": "python",
   "nbconvert_exporter": "python",
   "pygments_lexer": "ipython3",
   "version": "3.12.1"
  }
 },
 "nbformat": 4,
 "nbformat_minor": 5
}
