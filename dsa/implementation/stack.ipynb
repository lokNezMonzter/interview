{
 "cells": [
  {
   "cell_type": "markdown",
   "id": "63c87c8f-fbad-46d0-b8bf-4854134e6649",
   "metadata": {},
   "source": [
    "# Stack"
   ]
  },
  {
   "cell_type": "code",
   "execution_count": 5,
   "id": "4bd246a9-9e9c-4288-a61c-5f05e2eff69b",
   "metadata": {},
   "outputs": [],
   "source": [
    "class Stack:\n",
    "    def __init__(self):\n",
    "        self.stack = []\n",
    "        self.size = 0\n",
    "\n",
    "    def __len__(self):\n",
    "        return self.size\n",
    "\n",
    "    def is_empty(self):\n",
    "        return self.size == 0\n",
    "\n",
    "    def push(self, value):\n",
    "        self.stack.append(value)\n",
    "        self.size += 1\n",
    "\n",
    "    def pop(self):\n",
    "        if self.is_empty():\n",
    "            raise Exception(\"index out of bounds\")\n",
    "        self.size -= 1\n",
    "        return self.stack.pop()\n",
    "\n",
    "    def peek(self):\n",
    "        if self.is_empty():\n",
    "            raise Exception(\"index out of bounds\")\n",
    "        return self.stack[self.size - 1]"
   ]
  },
  {
   "cell_type": "code",
   "execution_count": 6,
   "id": "05372355-6dcc-4ddd-b582-7ec3a91364f9",
   "metadata": {},
   "outputs": [
    {
     "data": {
      "text/plain": [
       "(True, 0)"
      ]
     },
     "execution_count": 6,
     "metadata": {},
     "output_type": "execute_result"
    }
   ],
   "source": [
    "stack = Stack()\n",
    "stack.is_empty(), len(stack)"
   ]
  },
  {
   "cell_type": "code",
   "execution_count": 7,
   "id": "69b24445-cdae-4fb6-81fe-05cafe4a63f6",
   "metadata": {},
   "outputs": [
    {
     "data": {
      "text/plain": [
       "5"
      ]
     },
     "execution_count": 7,
     "metadata": {},
     "output_type": "execute_result"
    }
   ],
   "source": [
    "arr = [1, 2, 3, 4, 5]\n",
    "for el in arr:\n",
    "    stack.push(el)\n",
    "len(stack)"
   ]
  },
  {
   "cell_type": "code",
   "execution_count": 8,
   "id": "6115f7de-0b63-4615-80d7-fc087e27651a",
   "metadata": {},
   "outputs": [
    {
     "data": {
      "text/plain": [
       "5"
      ]
     },
     "execution_count": 8,
     "metadata": {},
     "output_type": "execute_result"
    }
   ],
   "source": [
    "stack.peek()"
   ]
  },
  {
   "cell_type": "code",
   "execution_count": 9,
   "id": "d7b34d73-933d-444f-9efa-e888a63d8fbf",
   "metadata": {},
   "outputs": [
    {
     "name": "stdout",
     "output_type": "stream",
     "text": [
      "5\n",
      "4\n",
      "3\n"
     ]
    }
   ],
   "source": [
    "print(stack.pop())\n",
    "print(stack.pop())\n",
    "print(stack.pop())"
   ]
  },
  {
   "cell_type": "code",
   "execution_count": 10,
   "id": "494441e3-c524-47e5-9a3e-50a10c5bddfa",
   "metadata": {},
   "outputs": [
    {
     "data": {
      "text/plain": [
       "(False, 2)"
      ]
     },
     "execution_count": 10,
     "metadata": {},
     "output_type": "execute_result"
    }
   ],
   "source": [
    "stack.is_empty(), len(stack)"
   ]
  },
  {
   "cell_type": "code",
   "execution_count": 12,
   "id": "9d8eae42-7f27-4618-9327-fc46065b91cc",
   "metadata": {},
   "outputs": [
    {
     "data": {
      "text/plain": [
       "20"
      ]
     },
     "execution_count": 12,
     "metadata": {},
     "output_type": "execute_result"
    }
   ],
   "source": [
    "stack.push(10)\n",
    "stack.push(20)\n",
    "stack.peek()"
   ]
  },
  {
   "cell_type": "code",
   "execution_count": 13,
   "id": "236a9ea9-beb7-4750-95b0-7473187fe34d",
   "metadata": {},
   "outputs": [
    {
     "data": {
      "text/plain": [
       "4"
      ]
     },
     "execution_count": 13,
     "metadata": {},
     "output_type": "execute_result"
    }
   ],
   "source": [
    "len(stack)"
   ]
  },
  {
   "cell_type": "code",
   "execution_count": null,
   "id": "1c98f14c-c53e-49f0-ae7f-cd5fdb58bf05",
   "metadata": {},
   "outputs": [],
   "source": []
  }
 ],
 "metadata": {
  "kernelspec": {
   "display_name": "Python 3 (ipykernel)",
   "language": "python",
   "name": "python3"
  },
  "language_info": {
   "codemirror_mode": {
    "name": "ipython",
    "version": 3
   },
   "file_extension": ".py",
   "mimetype": "text/x-python",
   "name": "python",
   "nbconvert_exporter": "python",
   "pygments_lexer": "ipython3",
   "version": "3.12.1"
  }
 },
 "nbformat": 4,
 "nbformat_minor": 5
}
