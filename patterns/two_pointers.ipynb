{
 "cells": [
  {
   "cell_type": "markdown",
   "id": "c69aab90-d818-4308-8d25-b2926009bdd3",
   "metadata": {},
   "source": [
    "# 2 Pointers"
   ]
  },
  {
   "cell_type": "markdown",
   "id": "5143de17-a10b-4b27-ae66-e6efb55e2a53",
   "metadata": {},
   "source": [
    "## Valid Palindrome"
   ]
  },
  {
   "cell_type": "code",
   "execution_count": 1,
   "id": "f5bec6cb-f632-4063-89d3-319d7086e974",
   "metadata": {},
   "outputs": [],
   "source": [
    "def valid_palindrome(s):\n",
    "    s = s.lower()\n",
    "    left = 0\n",
    "    right = len(s) - 1\n",
    "    while left < right:\n",
    "        if s[left] != s[right]:\n",
    "            return False\n",
    "        left = left + 1\n",
    "        right = right - 1\n",
    "    return True"
   ]
  },
  {
   "cell_type": "code",
   "execution_count": 2,
   "id": "4ffe70d7-d335-45ea-8842-6a3e67d0f6a6",
   "metadata": {},
   "outputs": [
    {
     "name": "stdout",
     "output_type": "stream",
     "text": [
      "maDam is palindrome\n",
      "KAyAk is palindrome\n",
      "cricket is not palindrome\n",
      "letter is not palindrome\n",
      "abba is palindrome\n",
      "True is not palindrome\n",
      "racECaR is palindrome\n",
      "BoB is palindrome\n",
      "dog is not palindrome\n",
      "A is palindrome\n",
      "Aa is palindrome\n",
      "aaA is palindrome\n"
     ]
    }
   ],
   "source": [
    "words = [\"maDam\", \"KAyAk\", \"cricket\", \"letter\", \"abba\", \"True\", \"racECaR\", \"BoB\", \"dog\", \"A\", \"Aa\", \"aaA\"]\n",
    "for word in words:\n",
    "    if valid_palindrome(word):\n",
    "        print(f\"{word} is palindrome\")\n",
    "    else:\n",
    "        print(f\"{word} is not palindrome\")"
   ]
  },
  {
   "cell_type": "markdown",
   "id": "ef1714d9-5119-43ca-b939-3928eb3bf8b2",
   "metadata": {},
   "source": [
    "## 3 Sum"
   ]
  },
  {
   "cell_type": "code",
   "execution_count": 3,
   "id": "6166dd60-4310-4e51-97c4-4b7d0fa97c56",
   "metadata": {},
   "outputs": [],
   "source": [
    "def three_sum(nums, target):\n",
    "    nums.sort()\n",
    "    n = len(nums)\n",
    "\n",
    "    for i in range(n):\n",
    "        low = i+1\n",
    "        high = n-1\n",
    "\n",
    "        while ((low < high) and (low != high) and (i != low) and (i != high)):\n",
    "            sum = nums[i] + nums[low] + nums[high]\n",
    "            if sum == target:\n",
    "                return True\n",
    "            elif sum < target:\n",
    "                low = low + 1\n",
    "            else:\n",
    "                high = high - 1\n",
    "\n",
    "    return False"
   ]
  },
  {
   "cell_type": "code",
   "execution_count": 13,
   "id": "e0aeec43-480d-4830-b106-1e4f1ee9d647",
   "metadata": {},
   "outputs": [
    {
     "data": {
      "text/plain": [
       "False"
      ]
     },
     "execution_count": 13,
     "metadata": {},
     "output_type": "execute_result"
    }
   ],
   "source": [
    "nums = [1, 1, -1]\n",
    "target = 3\n",
    "three_sum(nums, target)"
   ]
  },
  {
   "cell_type": "code",
   "execution_count": 14,
   "id": "0eb68bbd-ec68-4d97-b67c-2dabfae2765c",
   "metadata": {},
   "outputs": [
    {
     "ename": "ModuleNotFoundError",
     "evalue": "No module named 'linked_list'",
     "output_type": "error",
     "traceback": [
      "\u001b[0;31m---------------------------------------------------------------------------\u001b[0m",
      "\u001b[0;31mModuleNotFoundError\u001b[0m                       Traceback (most recent call last)",
      "Cell \u001b[0;32mIn[14], line 1\u001b[0m\n\u001b[0;32m----> 1\u001b[0m \u001b[38;5;28;01mfrom\u001b[39;00m \u001b[38;5;21;01mlinked_list\u001b[39;00m \u001b[38;5;28;01mimport\u001b[39;00m linked_list\n",
      "\u001b[0;31mModuleNotFoundError\u001b[0m: No module named 'linked_list'"
     ]
    }
   ],
   "source": [
    "from linked_list import linked_list"
   ]
  },
  {
   "cell_type": "code",
   "execution_count": null,
   "id": "c9e26730-b0f0-4c2b-b2f9-5a2ddbfadd58",
   "metadata": {},
   "outputs": [],
   "source": []
  }
 ],
 "metadata": {
  "kernelspec": {
   "display_name": "Python 3 (ipykernel)",
   "language": "python",
   "name": "python3"
  },
  "language_info": {
   "codemirror_mode": {
    "name": "ipython",
    "version": 3
   },
   "file_extension": ".py",
   "mimetype": "text/x-python",
   "name": "python",
   "nbconvert_exporter": "python",
   "pygments_lexer": "ipython3",
   "version": "3.12.1"
  }
 },
 "nbformat": 4,
 "nbformat_minor": 5
}
