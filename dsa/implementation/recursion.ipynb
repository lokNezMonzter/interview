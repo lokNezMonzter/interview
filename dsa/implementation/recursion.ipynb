{
 "cells": [
  {
   "metadata": {},
   "cell_type": "markdown",
   "source": [
    "# Recursion\n",
    "A function calling itself repeatedly till a condition is met\n",
    "\n",
    "## Factorial\n",
    "\n",
    "\n",
    "#### n! = n x (n-1) x (n-2) x ... x 2 x 1  \n",
    "#### f(n) = n x f(n-1) = n x (n-1) x f(n-2)\n",
    "\n",
    "#### Analysis\n",
    "- Time Complexity: **O(n)**\n",
    "- Space Complexity:: **O(n)** for recursive solution; **O(1)** for iterative solution"
   ],
   "id": "720e1b35a51cd6a6"
  },
  {
   "metadata": {
    "ExecuteTime": {
     "end_time": "2024-10-29T03:45:51.414962Z",
     "start_time": "2024-10-29T03:45:51.411655Z"
    }
   },
   "cell_type": "code",
   "source": [
    "def factorial(n):\n",
    "    if n <= 1:\n",
    "        return 1\n",
    "    return n * factorial(n-1)"
   ],
   "id": "29f62f0eb0f7ceff",
   "outputs": [],
   "execution_count": 8
  },
  {
   "metadata": {
    "ExecuteTime": {
     "end_time": "2024-10-29T03:45:52.091210Z",
     "start_time": "2024-10-29T03:45:52.086901Z"
    }
   },
   "cell_type": "code",
   "source": "factorial(5), factorial(3), factorial(0)",
   "id": "e62ce0dd35b6944f",
   "outputs": [
    {
     "data": {
      "text/plain": [
       "(120, 6, 1)"
      ]
     },
     "execution_count": 9,
     "metadata": {},
     "output_type": "execute_result"
    }
   ],
   "execution_count": 9
  },
  {
   "metadata": {},
   "cell_type": "markdown",
   "source": [
    "\n",
    "## Fibonacci Sequence\n",
    "\n",
    "#### F(n) = F(n-1) + F(n-2); F(1) = 1 and F(0) = 0\n",
    "\n",
    "#### Analysis\n",
    "- Time Complexity: **O(2^n)**\n",
    "- Space Complexity: **O(n)** for recursive solution; **O(1)** for iterative solution"
   ],
   "id": "e0a31f0b4d6f9037"
  },
  {
   "metadata": {
    "ExecuteTime": {
     "end_time": "2024-10-29T04:09:33.421456Z",
     "start_time": "2024-10-29T04:09:33.417842Z"
    }
   },
   "cell_type": "code",
   "source": [
    "def f(n):\n",
    "    if n <= 1:\n",
    "        return n\n",
    "    return f(n-1) + f(n-2)"
   ],
   "id": "4c0689fc4082756",
   "outputs": [],
   "execution_count": 10
  },
  {
   "metadata": {
    "ExecuteTime": {
     "end_time": "2024-10-29T04:09:54.905466Z",
     "start_time": "2024-10-29T04:09:54.900140Z"
    }
   },
   "cell_type": "code",
   "source": "f(14), f(5), f(4), f(1), f(0)",
   "id": "a878803c90b3b0c3",
   "outputs": [
    {
     "data": {
      "text/plain": [
       "(377, 5, 3, 1, 0)"
      ]
     },
     "execution_count": 11,
     "metadata": {},
     "output_type": "execute_result"
    }
   ],
   "execution_count": 11
  },
  {
   "metadata": {},
   "cell_type": "code",
   "outputs": [],
   "execution_count": null,
   "source": "",
   "id": "eb25cf79f33d9059"
  }
 ],
 "metadata": {
  "kernelspec": {
   "display_name": "Python 3",
   "language": "python",
   "name": "python3"
  },
  "language_info": {
   "codemirror_mode": {
    "name": "ipython",
    "version": 2
   },
   "file_extension": ".py",
   "mimetype": "text/x-python",
   "name": "python",
   "nbconvert_exporter": "python",
   "pygments_lexer": "ipython2",
   "version": "2.7.6"
  }
 },
 "nbformat": 4,
 "nbformat_minor": 5
}
