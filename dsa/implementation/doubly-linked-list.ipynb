{
 "cells": [
  {
   "cell_type": "markdown",
   "id": "3705abe5-dcb9-44d3-a6aa-e75d2cb5b958",
   "metadata": {},
   "source": [
    "# Doubly Linked List\n",
    "This kind of linked list node has a pointer to it's previous node and it's next node. Therefore we can easily travel up and down the list"
   ]
  },
  {
   "cell_type": "code",
   "id": "706154a7-c59f-4609-8766-23bf13f7df57",
   "metadata": {
    "ExecuteTime": {
     "end_time": "2024-10-23T04:05:00.142980Z",
     "start_time": "2024-10-23T04:05:00.133998Z"
    }
   },
   "source": [
    "from ipykernel.pickleutil import buffer\n",
    "\n",
    "\n",
    "# Implement node class\n",
    "class Node:\n",
    "    def __init__(self, value):\n",
    "        self.val = value\n",
    "        self.prev = None\n",
    "        self.next = None\n",
    "\n",
    "# Implement doubly linked list\n",
    "class DoublyLinkedList:\n",
    "    # initialize linked list\n",
    "    def __init__(self):\n",
    "        self.head = None\n",
    "        self.tail = None\n",
    "        self.size = 0\n",
    "        \n",
    "    # return the length of linked list using len() function\n",
    "    def __len__(self):\n",
    "        return self.size\n",
    "    \n",
    "    # check if linked list is empty\n",
    "    def is_empty(self):\n",
    "        return self.size == 0\n",
    "    \n",
    "    # helper function to insert single node into empty list\n",
    "    def insert_first_node(self, node):\n",
    "        self.head = node\n",
    "        self.tail = node\n",
    "        self.size = 1\n",
    "        \n",
    "    # helper function to delete single node and make list empty\n",
    "    def remove_single_node(self):\n",
    "        self.head = None\n",
    "        self.tail = None\n",
    "        self.size = 0\n",
    "        \n",
    "    # helper function to find required index\n",
    "    def find_index(self, index):\n",
    "        i = 0\n",
    "        current = self.head\n",
    "        while i < (index - 1) and current:\n",
    "            i = i + 1\n",
    "            current = current.next\n",
    "        return current\n",
    "        \n",
    "    # insert node at head of list\n",
    "    def insert_head(self, value):\n",
    "        # create a new node\n",
    "        node = Node(value)\n",
    "        \n",
    "        if self.is_empty():\n",
    "            self.insert_first_node(node)\n",
    "            return \n",
    "        \n",
    "        # insert at head position if not empty\n",
    "        node.next = self.head\n",
    "        self.head.prev = node\n",
    "        self.head = self.head.prev\n",
    "        \n",
    "        # update size\n",
    "        self.size = self.size + 1\n",
    "        \n",
    "    # insert node at tail of list\n",
    "    def insert_tail(self, value):\n",
    "        # create new node\n",
    "        node = Node(value)\n",
    "        \n",
    "        if self.is_empty():\n",
    "            self.insert_first_node(node)\n",
    "            return \n",
    "        \n",
    "        # insert at tail position if not empty\n",
    "        self.tail.next = node\n",
    "        node.prev = self.tail\n",
    "        self.tail = self.tail.next\n",
    "        \n",
    "        # update size\n",
    "        self.size = self.size + 1\n",
    "        \n",
    "    # remove node from head of list\n",
    "    def remove_head(self):\n",
    "        # raise error if list empty\n",
    "        if self.is_empty():\n",
    "            raise Exception(\"empty list\")\n",
    "        \n",
    "        if self.size == 1:\n",
    "            self.remove_single_node()\n",
    "            return \n",
    "        \n",
    "        # if more than one node, delete from front\n",
    "        temp = self.head\n",
    "        self.head = self.head.next\n",
    "        self.head.prev = None\n",
    "        temp.next = None\n",
    "        \n",
    "        # update size\n",
    "        self.size = self.size - 1\n",
    "        \n",
    "    # remove node from tail of list\n",
    "    def remove_tail(self):\n",
    "        # raise error if list empty\n",
    "        if self.is_empty():\n",
    "            raise Exception(\"empty list\")\n",
    "        \n",
    "        if self.size == 1:\n",
    "            self.remove_single_node()\n",
    "            return \n",
    "        \n",
    "        # if more than one node, delete from end\n",
    "        temp = self.tail\n",
    "        self.tail = self.tail.prev\n",
    "        self.tail.next = None\n",
    "        temp.prev = None\n",
    "        \n",
    "        # update size\n",
    "        self.size = self.size - 1\n",
    "        \n",
    "    # insert at index i\n",
    "    def insert(self, value, index):\n",
    "        # if index is more than length of list, insert at end\n",
    "        if index >= self.size:\n",
    "            self.insert_tail(value)\n",
    "            return \n",
    "\n",
    "        # if index is starting index, insert at front\n",
    "        if index == 0:\n",
    "            self.insert_head(value)\n",
    "            return \n",
    "\n",
    "        node = Node(value)\n",
    "\n",
    "        if self.is_empty():\n",
    "            self.insert_first_node(node)\n",
    "            return \n",
    "\n",
    "\n",
    "        # position before insert index\n",
    "        current = self.find_index(index)\n",
    "        \n",
    "        # insert the node after current\n",
    "        node.next = current.next\n",
    "        node.prev = current\n",
    "        current.next = node\n",
    "        node.next.prev = node\n",
    "        \n",
    "        # update size\n",
    "        self.size = self.size + 1\n",
    "        \n",
    "    # remove from index i\n",
    "    def remove(self, index):\n",
    "        if index >= self.size or index < 0 or self.is_empty():\n",
    "            raise Exception(\"out of bounds\")\n",
    "        \n",
    "        # if index is tail node, remove at end\n",
    "        if index == (self.size - 1):\n",
    "            self.remove_tail()\n",
    "            return \n",
    "        \n",
    "        # if index is head node, remove at front\n",
    "        if index == 0:\n",
    "            self.remove_head()\n",
    "            return \n",
    "        \n",
    "        # position before delete index\n",
    "        current = self.find_index(index)\n",
    "        \n",
    "        # pointer to track removal node\n",
    "        temp = current.next\n",
    "        \n",
    "        # delete the node after current\n",
    "        current.next = temp.next\n",
    "        temp.next.prev = current\n",
    "        temp.next = None\n",
    "        temp.prev = None\n",
    "        \n",
    "        # update size\n",
    "        self.size = self.size - 1\n",
    "        \n",
    "    # search for key in list\n",
    "    def search(self, key):\n",
    "        if self.is_empty():\n",
    "            raise Exception(\"list empty\")\n",
    "        \n",
    "        if self.head.val == key or self.tail.val == key:\n",
    "            return True\n",
    "        \n",
    "        # traverse through list to search\n",
    "        current = self.head\n",
    "        while current:\n",
    "            if current.val == key:\n",
    "                return True\n",
    "            current = current.next\n",
    "            \n",
    "        # key not found in list\n",
    "        return False\n",
    "            \n",
    "        \n",
    "    def display(self):\n",
    "        if self.is_empty():\n",
    "            raise Exception(\"list empty\")\n",
    "        \n",
    "        current = self.head\n",
    "        while current != self.tail:\n",
    "            print(f\"{current.val} <==> \", end=\"\")\n",
    "            current = current.next\n",
    "        print(f\"{self.tail.val}\", end=\"\\n\")\n",
    "     "
   ],
   "outputs": [],
   "execution_count": 18
  },
  {
   "metadata": {
    "ExecuteTime": {
     "end_time": "2024-10-23T03:54:17.862347Z",
     "start_time": "2024-10-23T03:54:17.859193Z"
    }
   },
   "cell_type": "code",
   "source": [
    "lst = DoublyLinkedList()\n",
    "lst.is_empty(), len(lst)"
   ],
   "id": "ca4be98d0085b65c",
   "outputs": [
    {
     "data": {
      "text/plain": [
       "(True, 0)"
      ]
     },
     "execution_count": 32,
     "metadata": {},
     "output_type": "execute_result"
    }
   ],
   "execution_count": 32
  },
  {
   "metadata": {
    "ExecuteTime": {
     "end_time": "2024-10-23T03:54:18.941549Z",
     "start_time": "2024-10-23T03:54:18.923045Z"
    }
   },
   "cell_type": "code",
   "source": "lst.display()",
   "id": "65a17615f520b31b",
   "outputs": [
    {
     "ename": "Exception",
     "evalue": "list empty",
     "output_type": "error",
     "traceback": [
      "\u001B[0;31m---------------------------------------------------------------------------\u001B[0m",
      "\u001B[0;31mException\u001B[0m                                 Traceback (most recent call last)",
      "Cell \u001B[0;32mIn[33], line 1\u001B[0m\n\u001B[0;32m----> 1\u001B[0m \u001B[43mlst\u001B[49m\u001B[38;5;241;43m.\u001B[39;49m\u001B[43mdisplay\u001B[49m\u001B[43m(\u001B[49m\u001B[43m)\u001B[49m\n",
      "Cell \u001B[0;32mIn[31], line 199\u001B[0m, in \u001B[0;36mDoublyLinkedList.display\u001B[0;34m(self)\u001B[0m\n\u001B[1;32m    197\u001B[0m \u001B[38;5;28;01mdef\u001B[39;00m \u001B[38;5;21mdisplay\u001B[39m(\u001B[38;5;28mself\u001B[39m):\n\u001B[1;32m    198\u001B[0m     \u001B[38;5;28;01mif\u001B[39;00m \u001B[38;5;28mself\u001B[39m\u001B[38;5;241m.\u001B[39mis_empty():\n\u001B[0;32m--> 199\u001B[0m         \u001B[38;5;28;01mraise\u001B[39;00m \u001B[38;5;167;01mException\u001B[39;00m(\u001B[38;5;124m\"\u001B[39m\u001B[38;5;124mlist empty\u001B[39m\u001B[38;5;124m\"\u001B[39m)\n\u001B[1;32m    201\u001B[0m     current \u001B[38;5;241m=\u001B[39m \u001B[38;5;28mself\u001B[39m\u001B[38;5;241m.\u001B[39mhead\n\u001B[1;32m    202\u001B[0m     \u001B[38;5;28;01mwhile\u001B[39;00m current \u001B[38;5;241m!=\u001B[39m \u001B[38;5;28mself\u001B[39m\u001B[38;5;241m.\u001B[39mtail:\n",
      "\u001B[0;31mException\u001B[0m: list empty"
     ]
    }
   ],
   "execution_count": 33
  },
  {
   "metadata": {
    "ExecuteTime": {
     "end_time": "2024-10-23T03:54:19.813437Z",
     "start_time": "2024-10-23T03:54:19.809720Z"
    }
   },
   "cell_type": "code",
   "source": [
    "arr = [10, 20, 30, 40, 50]\n",
    "try:\n",
    "    for el in arr:\n",
    "        lst.insert_tail(el)\n",
    "    print(len(lst))\n",
    "except Exception as e:\n",
    "    print(e)"
   ],
   "id": "a6225106dfa394bc",
   "outputs": [
    {
     "name": "stdout",
     "output_type": "stream",
     "text": [
      "5\n"
     ]
    }
   ],
   "execution_count": 34
  },
  {
   "metadata": {
    "ExecuteTime": {
     "end_time": "2024-10-23T03:54:22.935695Z",
     "start_time": "2024-10-23T03:54:22.931447Z"
    }
   },
   "cell_type": "code",
   "source": [
    "ptr = lst.find_index(3)\n",
    "ptr.val"
   ],
   "id": "a7b1af74966e5257",
   "outputs": [
    {
     "data": {
      "text/plain": [
       "30"
      ]
     },
     "execution_count": 35,
     "metadata": {},
     "output_type": "execute_result"
    }
   ],
   "execution_count": 35
  },
  {
   "metadata": {
    "ExecuteTime": {
     "end_time": "2024-10-23T03:54:24.222895Z",
     "start_time": "2024-10-23T03:54:24.219830Z"
    }
   },
   "cell_type": "code",
   "source": "lst.display()",
   "id": "d8bfd622a9dd8294",
   "outputs": [
    {
     "name": "stdout",
     "output_type": "stream",
     "text": [
      "10 <==> 20 <==> 30 <==> 40 <==> 50\n"
     ]
    }
   ],
   "execution_count": 36
  },
  {
   "metadata": {
    "ExecuteTime": {
     "end_time": "2024-10-23T02:42:44.354846Z",
     "start_time": "2024-10-23T02:42:44.351720Z"
    }
   },
   "cell_type": "code",
   "source": [
    "arr = [0.1, 0.2, 0.3, 0.4]\n",
    "try:\n",
    "    for el in arr:\n",
    "        lst.insert_head(el)\n",
    "    print(len(lst))\n",
    "except Exception as e:\n",
    "    print(e)"
   ],
   "id": "e77dd69c92c82a6e",
   "outputs": [
    {
     "name": "stdout",
     "output_type": "stream",
     "text": [
      "9\n"
     ]
    }
   ],
   "execution_count": 6
  },
  {
   "metadata": {
    "ExecuteTime": {
     "end_time": "2024-10-23T02:42:54.661207Z",
     "start_time": "2024-10-23T02:42:54.657685Z"
    }
   },
   "cell_type": "code",
   "source": "lst.display()",
   "id": "34f83f93aff52d67",
   "outputs": [
    {
     "name": "stdout",
     "output_type": "stream",
     "text": [
      "0.4 <==> 0.3 <==> 0.2 <==> 0.1 <==> 10 <==> 20 <==> 30 <==> 40 <==> 50\n"
     ]
    }
   ],
   "execution_count": 7
  },
  {
   "metadata": {
    "ExecuteTime": {
     "end_time": "2024-10-23T02:43:39.324467Z",
     "start_time": "2024-10-23T02:43:39.322150Z"
    }
   },
   "cell_type": "code",
   "source": [
    "lst.remove_head()\n",
    "len(lst)"
   ],
   "id": "f0a610118c6a55d8",
   "outputs": [
    {
     "data": {
      "text/plain": [
       "8"
      ]
     },
     "execution_count": 8,
     "metadata": {},
     "output_type": "execute_result"
    }
   ],
   "execution_count": 8
  },
  {
   "metadata": {
    "ExecuteTime": {
     "end_time": "2024-10-23T02:43:51.577181Z",
     "start_time": "2024-10-23T02:43:51.573634Z"
    }
   },
   "cell_type": "code",
   "source": [
    "lst.remove_tail()\n",
    "len(lst)"
   ],
   "id": "6c1dfb63a89f2e5",
   "outputs": [
    {
     "data": {
      "text/plain": [
       "7"
      ]
     },
     "execution_count": 9,
     "metadata": {},
     "output_type": "execute_result"
    }
   ],
   "execution_count": 9
  },
  {
   "metadata": {
    "ExecuteTime": {
     "end_time": "2024-10-23T02:43:59.306152Z",
     "start_time": "2024-10-23T02:43:59.303903Z"
    }
   },
   "cell_type": "code",
   "source": "lst.display()",
   "id": "22b2d14aec52ab75",
   "outputs": [
    {
     "name": "stdout",
     "output_type": "stream",
     "text": [
      "0.3 <==> 0.2 <==> 0.1 <==> 10 <==> 20 <==> 30 <==> 40\n"
     ]
    }
   ],
   "execution_count": 10
  },
  {
   "metadata": {
    "ExecuteTime": {
     "end_time": "2024-10-23T02:44:21.373795Z",
     "start_time": "2024-10-23T02:44:21.370251Z"
    }
   },
   "cell_type": "code",
   "source": [
    "lst.remove_tail()\n",
    "lst.remove_head()\n",
    "len(lst)"
   ],
   "id": "7fc769c47d542572",
   "outputs": [
    {
     "data": {
      "text/plain": [
       "5"
      ]
     },
     "execution_count": 11,
     "metadata": {},
     "output_type": "execute_result"
    }
   ],
   "execution_count": 11
  },
  {
   "metadata": {
    "ExecuteTime": {
     "end_time": "2024-10-23T02:44:24.108470Z",
     "start_time": "2024-10-23T02:44:24.105769Z"
    }
   },
   "cell_type": "code",
   "source": "lst.display()",
   "id": "c6c5774af20b08ea",
   "outputs": [
    {
     "name": "stdout",
     "output_type": "stream",
     "text": [
      "0.2 <==> 0.1 <==> 10 <==> 20 <==> 30\n"
     ]
    }
   ],
   "execution_count": 12
  },
  {
   "metadata": {
    "ExecuteTime": {
     "end_time": "2024-10-23T02:45:01.445244Z",
     "start_time": "2024-10-23T02:45:01.441737Z"
    }
   },
   "cell_type": "code",
   "source": [
    "for _ in range(len(lst) // 2):\n",
    "    lst.remove_head()\n",
    "lst.display()"
   ],
   "id": "ae9ec98d6174bf4c",
   "outputs": [
    {
     "name": "stdout",
     "output_type": "stream",
     "text": [
      "10 <==> 20 <==> 30\n"
     ]
    }
   ],
   "execution_count": 13
  },
  {
   "metadata": {
    "ExecuteTime": {
     "end_time": "2024-10-23T02:46:25.576609Z",
     "start_time": "2024-10-23T02:46:25.574092Z"
    }
   },
   "cell_type": "code",
   "source": [
    "for _ in range(len(lst) - 1):\n",
    "    lst.remove_tail()\n",
    "lst.display()"
   ],
   "id": "17317c0c662d1d48",
   "outputs": [
    {
     "name": "stdout",
     "output_type": "stream",
     "text": [
      "10\n"
     ]
    }
   ],
   "execution_count": 14
  },
  {
   "metadata": {
    "ExecuteTime": {
     "end_time": "2024-10-23T02:46:35.114862Z",
     "start_time": "2024-10-23T02:46:35.110297Z"
    }
   },
   "cell_type": "code",
   "source": "len(lst)",
   "id": "738461bc7522f85f",
   "outputs": [
    {
     "data": {
      "text/plain": [
       "1"
      ]
     },
     "execution_count": 15,
     "metadata": {},
     "output_type": "execute_result"
    }
   ],
   "execution_count": 15
  },
  {
   "metadata": {
    "ExecuteTime": {
     "end_time": "2024-10-23T02:46:39.792943Z",
     "start_time": "2024-10-23T02:46:39.789574Z"
    }
   },
   "cell_type": "code",
   "source": "lst.remove_tail()",
   "id": "68af50cd43987907",
   "outputs": [],
   "execution_count": 16
  },
  {
   "metadata": {
    "ExecuteTime": {
     "end_time": "2024-10-23T02:46:48.092153Z",
     "start_time": "2024-10-23T02:46:48.087550Z"
    }
   },
   "cell_type": "code",
   "source": "len(lst), lst.is_empty()",
   "id": "8a67130c21c3021f",
   "outputs": [
    {
     "data": {
      "text/plain": [
       "(0, True)"
      ]
     },
     "execution_count": 17,
     "metadata": {},
     "output_type": "execute_result"
    }
   ],
   "execution_count": 17
  },
  {
   "metadata": {
    "ExecuteTime": {
     "end_time": "2024-10-23T04:05:11.298411Z",
     "start_time": "2024-10-23T04:05:11.295093Z"
    }
   },
   "cell_type": "code",
   "source": [
    "dl = DoublyLinkedList()\n",
    "dl.is_empty(), len(dl)"
   ],
   "id": "5c5a60098f7adbab",
   "outputs": [
    {
     "data": {
      "text/plain": [
       "(True, 0)"
      ]
     },
     "execution_count": 19,
     "metadata": {},
     "output_type": "execute_result"
    }
   ],
   "execution_count": 19
  },
  {
   "metadata": {
    "ExecuteTime": {
     "end_time": "2024-10-23T04:05:12.312699Z",
     "start_time": "2024-10-23T04:05:12.309248Z"
    }
   },
   "cell_type": "code",
   "source": [
    "arr = [10, 20, 30, 40, 50]\n",
    "for el in arr:\n",
    "    dl.insert_tail(el)\n",
    "len(dl)"
   ],
   "id": "c86cc00c15e4b17d",
   "outputs": [
    {
     "data": {
      "text/plain": [
       "5"
      ]
     },
     "execution_count": 20,
     "metadata": {},
     "output_type": "execute_result"
    }
   ],
   "execution_count": 20
  },
  {
   "metadata": {
    "ExecuteTime": {
     "end_time": "2024-10-23T04:05:13.412255Z",
     "start_time": "2024-10-23T04:05:13.409928Z"
    }
   },
   "cell_type": "code",
   "source": "dl.display()",
   "id": "120ccde6f53d7b1b",
   "outputs": [
    {
     "name": "stdout",
     "output_type": "stream",
     "text": [
      "10 <==> 20 <==> 30 <==> 40 <==> 50\n"
     ]
    }
   ],
   "execution_count": 21
  },
  {
   "metadata": {
    "ExecuteTime": {
     "end_time": "2024-10-23T04:05:17.846441Z",
     "start_time": "2024-10-23T04:05:17.843830Z"
    }
   },
   "cell_type": "code",
   "source": [
    "buffer = [10, 100, 1, 20, 40, 12, 50]\n",
    "for el in buffer:\n",
    "    print(f\"{el} exists in dl? {dl.search(el)}\")"
   ],
   "id": "14ed18ad0774afa6",
   "outputs": [
    {
     "name": "stdout",
     "output_type": "stream",
     "text": [
      "10 exists in dl? True\n",
      "100 exists in dl? False\n",
      "1 exists in dl? False\n",
      "20 exists in dl? True\n",
      "40 exists in dl? True\n",
      "12 exists in dl? False\n",
      "50 exists in dl? True\n"
     ]
    }
   ],
   "execution_count": 22
  },
  {
   "metadata": {
    "ExecuteTime": {
     "end_time": "2024-10-23T04:05:32.566840Z",
     "start_time": "2024-10-23T04:05:32.564022Z"
    }
   },
   "cell_type": "code",
   "source": [
    "dl.insert(99, 2) # 10, 20, 99, 30, 40, 50\n",
    "dl.display()"
   ],
   "id": "11dfd6726d14e9a5",
   "outputs": [
    {
     "name": "stdout",
     "output_type": "stream",
     "text": [
      "10 <==> 20 <==> 99 <==> 30 <==> 40 <==> 50\n"
     ]
    }
   ],
   "execution_count": 23
  },
  {
   "metadata": {
    "ExecuteTime": {
     "end_time": "2024-10-23T04:05:39.704911Z",
     "start_time": "2024-10-23T04:05:39.701569Z"
    }
   },
   "cell_type": "code",
   "source": [
    "dl.insert(99, 1) # 10, 99, 20, 99, 30, 40, 50\n",
    "dl.insert(0, 0) # 0, 10, 99, 20, 99, 30, 40, 50\n",
    "dl.insert(101, len(dl)) # 0, 10, 99, 20, 99, 30, 40, 50, 101\n",
    "dl.insert(111, len(dl) - 1) # 0, 10, 99, 20, 99, 30, 40, 50, 111, 101"
   ],
   "id": "a8a798cd41c48a47",
   "outputs": [],
   "execution_count": 24
  },
  {
   "metadata": {
    "ExecuteTime": {
     "end_time": "2024-10-23T04:05:48.342039Z",
     "start_time": "2024-10-23T04:05:48.339549Z"
    }
   },
   "cell_type": "code",
   "source": "dl.display()",
   "id": "d54fc178a863e01f",
   "outputs": [
    {
     "name": "stdout",
     "output_type": "stream",
     "text": [
      "0 <==> 10 <==> 99 <==> 20 <==> 99 <==> 30 <==> 40 <==> 50 <==> 111 <==> 101\n"
     ]
    }
   ],
   "execution_count": 25
  },
  {
   "metadata": {
    "ExecuteTime": {
     "end_time": "2024-10-23T04:07:40.647795Z",
     "start_time": "2024-10-23T04:07:40.642546Z"
    }
   },
   "cell_type": "code",
   "source": "len(dl)",
   "id": "dc87063f95cef10e",
   "outputs": [
    {
     "data": {
      "text/plain": [
       "10"
      ]
     },
     "execution_count": 26,
     "metadata": {},
     "output_type": "execute_result"
    }
   ],
   "execution_count": 26
  },
  {
   "metadata": {
    "ExecuteTime": {
     "end_time": "2024-10-23T04:07:50.779864Z",
     "start_time": "2024-10-23T04:07:50.776173Z"
    }
   },
   "cell_type": "code",
   "source": [
    "dl.remove(2) # 0, 10, 20, 99, 30, 40, 50, 111, 101\n",
    "dl.remove(3) # 0, 10, 20, 30, 40, 50, 111, 101\n",
    "dl.display()"
   ],
   "id": "9459b559ad7b8a68",
   "outputs": [
    {
     "name": "stdout",
     "output_type": "stream",
     "text": [
      "0 <==> 10 <==> 20 <==> 30 <==> 40 <==> 50 <==> 111 <==> 101\n"
     ]
    }
   ],
   "execution_count": 27
  },
  {
   "metadata": {
    "ExecuteTime": {
     "end_time": "2024-10-23T04:08:05.440898Z",
     "start_time": "2024-10-23T04:08:05.435952Z"
    }
   },
   "cell_type": "code",
   "source": "len(dl)",
   "id": "d039156c6a9d438b",
   "outputs": [
    {
     "data": {
      "text/plain": [
       "8"
      ]
     },
     "execution_count": 28,
     "metadata": {},
     "output_type": "execute_result"
    }
   ],
   "execution_count": 28
  },
  {
   "metadata": {
    "ExecuteTime": {
     "end_time": "2024-10-23T04:09:17.841076Z",
     "start_time": "2024-10-23T04:09:17.837075Z"
    }
   },
   "cell_type": "code",
   "source": [
    "dl.remove(0) # 10, 20, 30, 40, 50, 111, 101\n",
    "dl.remove(len(dl) - 1) # 10, 20, 30, 40, 50, 111\n",
    "dl.remove(len(dl) - 1) # 10, 20, 30, 40, 50\n",
    "dl.display()"
   ],
   "id": "5474a6f6ad6171c7",
   "outputs": [
    {
     "name": "stdout",
     "output_type": "stream",
     "text": [
      "10 <==> 20 <==> 30 <==> 40 <==> 50\n"
     ]
    }
   ],
   "execution_count": 29
  },
  {
   "metadata": {
    "ExecuteTime": {
     "end_time": "2024-10-23T04:11:36.682566Z",
     "start_time": "2024-10-23T04:11:36.678496Z"
    }
   },
   "cell_type": "code",
   "source": "len(dl)",
   "id": "d228b719228167e9",
   "outputs": [
    {
     "data": {
      "text/plain": [
       "5"
      ]
     },
     "execution_count": 30,
     "metadata": {},
     "output_type": "execute_result"
    }
   ],
   "execution_count": 30
  },
  {
   "metadata": {
    "ExecuteTime": {
     "end_time": "2024-10-23T04:12:18.718807Z",
     "start_time": "2024-10-23T04:12:18.715263Z"
    }
   },
   "cell_type": "code",
   "source": [
    "for _ in range(len(dl) // 2):\n",
    "    dl.remove(1)\n",
    "dl.display()"
   ],
   "id": "c7d513d3cd6d640d",
   "outputs": [
    {
     "name": "stdout",
     "output_type": "stream",
     "text": [
      "10 <==> 40 <==> 50\n"
     ]
    }
   ],
   "execution_count": 31
  },
  {
   "metadata": {
    "ExecuteTime": {
     "end_time": "2024-10-23T04:13:08.018953Z",
     "start_time": "2024-10-23T04:13:08.015822Z"
    }
   },
   "cell_type": "code",
   "source": [
    "for _ in range(len(dl)):\n",
    "    dl.remove(0) "
   ],
   "id": "4f778e5dab92fc83",
   "outputs": [],
   "execution_count": 32
  },
  {
   "metadata": {
    "ExecuteTime": {
     "end_time": "2024-10-23T04:13:16.057264Z",
     "start_time": "2024-10-23T04:13:16.052879Z"
    }
   },
   "cell_type": "code",
   "source": "len(dl), dl.is_empty()",
   "id": "427b15ae5fe37b8",
   "outputs": [
    {
     "data": {
      "text/plain": [
       "(0, True)"
      ]
     },
     "execution_count": 33,
     "metadata": {},
     "output_type": "execute_result"
    }
   ],
   "execution_count": 33
  },
  {
   "metadata": {},
   "cell_type": "code",
   "outputs": [],
   "execution_count": null,
   "source": "",
   "id": "a5b802a32f3b1ccf"
  }
 ],
 "metadata": {
  "kernelspec": {
   "display_name": "Python 3 (ipykernel)",
   "language": "python",
   "name": "python3"
  },
  "language_info": {
   "codemirror_mode": {
    "name": "ipython",
    "version": 3
   },
   "file_extension": ".py",
   "mimetype": "text/x-python",
   "name": "python",
   "nbconvert_exporter": "python",
   "pygments_lexer": "ipython3",
   "version": "3.12.1"
  }
 },
 "nbformat": 4,
 "nbformat_minor": 5
}
