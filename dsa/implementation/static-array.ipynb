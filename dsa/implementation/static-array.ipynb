{
 "cells": [
  {
   "cell_type": "markdown",
   "id": "552bdbe6-ca1a-457b-aad1-b2fef1cc1ec3",
   "metadata": {},
   "source": [
    "# Static Arrays"
   ]
  },
  {
   "cell_type": "markdown",
   "id": "cc40f537-6e2c-4fa0-b660-c70fdc8ba877",
   "metadata": {},
   "source": [
    "#### Arrays of fixed size **`N`**"
   ]
  },
  {
   "cell_type": "code",
   "execution_count": 23,
   "id": "3d071eca-f122-4ad8-929d-26dccc47a239",
   "metadata": {},
   "outputs": [],
   "source": [
    "# Array of fixed size\n",
    "class StaticArray:\n",
    "    def __init__(self, size):\n",
    "        self.array = [float('nan')] * size\n",
    "        self.length = 0\n",
    "        self.size = size\n",
    "\n",
    "    def __len__(self):\n",
    "        return self.length\n",
    "\n",
    "    def is_empty(self):\n",
    "        return self.length == 0\n",
    "\n",
    "    def insert_end(self, value):\n",
    "        if self.length >= self.size:\n",
    "            raise Exception(\"overflow exception raised\")\n",
    "\n",
    "        self.array[self.length] = value\n",
    "        self.length += 1\n",
    "\n",
    "    def remove_end(self):\n",
    "        if self.is_empty():\n",
    "            raise Exception(\"underflow exception raised\")\n",
    "\n",
    "        self.array[self.length] = float('nan')\n",
    "        self.length -= 1\n",
    "\n",
    "    def insert(self, value, index):\n",
    "        if self.length == self.size:\n",
    "            raise Exception(\"overflow exception raised\")\n",
    "\n",
    "        if index >= self.size:\n",
    "            raise Exception(\"index out of bounds exception raised\")\n",
    "\n",
    "        # shift elements one postion right of index\n",
    "        for i in range(self.length - 1, index - 1, -1):\n",
    "            self.array[i+1] = self.array[i]\n",
    "\n",
    "        # insert at index\n",
    "        self.array[index] = value\n",
    "        self.length += 1\n",
    "\n",
    "    def remove(self, index):\n",
    "        if self.is_empty():\n",
    "            raise Exception(\"underflow exception raised\")\n",
    "\n",
    "        if index >= self.size:\n",
    "            raise Exception(\"index out of bounds exception raised\")\n",
    "\n",
    "        # shift elements one position left of index\n",
    "        for i in range(index + 1, self.length):\n",
    "            self.array[i-1] = self.array[i]\n",
    "        self.length -= 1\n",
    "\n",
    "        # set all remaining elements to nan\n",
    "        for i in range(self.length, self.size):\n",
    "            self.array[i] = float('nan')\n",
    "\n",
    "    def display(self):\n",
    "        if self.is_empty():\n",
    "            raise Exception(\"underflow exception raised\")\n",
    "            \n",
    "        print(\"[ \", end=\"\")\n",
    "        for i in range(self.length):\n",
    "            print(f\"{self.array[i]}, \", end=\"\")\n",
    "        print(\" ]\", end=\"\")"
   ]
  },
  {
   "cell_type": "code",
   "execution_count": 24,
   "id": "b86998fc-88e1-4560-aa36-7c695b7a3c2e",
   "metadata": {},
   "outputs": [],
   "source": [
    "arr = StaticArray(7)"
   ]
  },
  {
   "cell_type": "code",
   "execution_count": 25,
   "id": "4605a4e3-04f0-4d40-b724-f651190c3b02",
   "metadata": {},
   "outputs": [
    {
     "data": {
      "text/plain": [
       "(True, 0)"
      ]
     },
     "execution_count": 25,
     "metadata": {},
     "output_type": "execute_result"
    }
   ],
   "source": [
    "arr.is_empty(), len(arr)"
   ]
  },
  {
   "cell_type": "code",
   "execution_count": 26,
   "id": "c76b94a6-4184-42b0-98e7-069f0221b69f",
   "metadata": {},
   "outputs": [],
   "source": [
    "my_arr = [10, 20, 30, 40, 50, 60, 70]\n",
    "try:\n",
    "    for el in my_arr:\n",
    "        arr.insert_end(el)\n",
    "except Exception as e:\n",
    "    print(e)"
   ]
  },
  {
   "cell_type": "code",
   "execution_count": 27,
   "id": "248bc082-9c86-4672-af27-97e146650f80",
   "metadata": {},
   "outputs": [
    {
     "data": {
      "text/plain": [
       "(False, 7)"
      ]
     },
     "execution_count": 27,
     "metadata": {},
     "output_type": "execute_result"
    }
   ],
   "source": [
    "arr.is_empty(), len(arr)"
   ]
  },
  {
   "cell_type": "code",
   "execution_count": 28,
   "id": "693b29ed-566e-4cff-8e61-0bdd5a9b4160",
   "metadata": {},
   "outputs": [
    {
     "name": "stdout",
     "output_type": "stream",
     "text": [
      "[ 10, 20, 30, 40, 50, 60, 70,  ]"
     ]
    }
   ],
   "source": [
    "arr.display()"
   ]
  },
  {
   "cell_type": "code",
   "execution_count": 29,
   "id": "70952c74-7943-4966-ba77-c24d9d4e7cba",
   "metadata": {},
   "outputs": [
    {
     "data": {
      "text/plain": [
       "(7, 7)"
      ]
     },
     "execution_count": 29,
     "metadata": {},
     "output_type": "execute_result"
    }
   ],
   "source": [
    "arr.length, arr.size"
   ]
  },
  {
   "cell_type": "code",
   "execution_count": 30,
   "id": "41b5d9f7-e1be-43bc-9291-611d036b0b2e",
   "metadata": {},
   "outputs": [],
   "source": [
    "arr.remove(2)"
   ]
  },
  {
   "cell_type": "code",
   "execution_count": 31,
   "id": "c0dd1504-0c22-4c9c-ac3e-429c0a9ff5d1",
   "metadata": {},
   "outputs": [
    {
     "data": {
      "text/plain": [
       "(6, 7, False)"
      ]
     },
     "execution_count": 31,
     "metadata": {},
     "output_type": "execute_result"
    }
   ],
   "source": [
    "len(arr), arr.size, arr.is_empty()"
   ]
  },
  {
   "cell_type": "code",
   "execution_count": 32,
   "id": "ec973b9f-fd0b-4976-bec8-a4db4c9131ac",
   "metadata": {},
   "outputs": [
    {
     "name": "stdout",
     "output_type": "stream",
     "text": [
      "[ 10, 20, 40, 50, 60, 70,  ]"
     ]
    }
   ],
   "source": [
    "arr.display()"
   ]
  },
  {
   "cell_type": "code",
   "execution_count": 33,
   "id": "cabde34a-cc2b-44ad-9617-fc376cf50cfa",
   "metadata": {},
   "outputs": [
    {
     "name": "stdout",
     "output_type": "stream",
     "text": [
      "[ 10, 20, 50, 60, 70,  ]"
     ]
    }
   ],
   "source": [
    "arr.remove(2)\n",
    "arr.display()"
   ]
  },
  {
   "cell_type": "code",
   "execution_count": 34,
   "id": "af2bc84d-ef15-4759-9e29-923857c1b63a",
   "metadata": {},
   "outputs": [
    {
     "name": "stdout",
     "output_type": "stream",
     "text": [
      "[ 20, 50, 60, 70,  ]"
     ]
    }
   ],
   "source": [
    "arr.remove(0)\n",
    "arr.display()"
   ]
  },
  {
   "cell_type": "code",
   "execution_count": 35,
   "id": "0bf3dd96-85eb-4cf8-a08d-75f9e9881af5",
   "metadata": {},
   "outputs": [
    {
     "name": "stdout",
     "output_type": "stream",
     "text": [
      "[ 20, 50, 60,  ]"
     ]
    }
   ],
   "source": [
    "arr.remove(3)\n",
    "arr.display()"
   ]
  },
  {
   "cell_type": "code",
   "execution_count": 36,
   "id": "77066ce4-7165-41bb-af54-2f5e931d37b7",
   "metadata": {},
   "outputs": [
    {
     "data": {
      "text/plain": [
       "(3, 7)"
      ]
     },
     "execution_count": 36,
     "metadata": {},
     "output_type": "execute_result"
    }
   ],
   "source": [
    "len(arr), arr.size"
   ]
  },
  {
   "cell_type": "code",
   "execution_count": 37,
   "id": "1205af38-9c7a-4894-92ce-65693d79d073",
   "metadata": {},
   "outputs": [
    {
     "name": "stdout",
     "output_type": "stream",
     "text": [
      "[ 20, 50, 99, 60,  ]"
     ]
    }
   ],
   "source": [
    "arr.insert(99, 2)\n",
    "arr.display()"
   ]
  },
  {
   "cell_type": "code",
   "execution_count": 38,
   "id": "95fbd926-872b-4e2c-a131-3aee308274c4",
   "metadata": {},
   "outputs": [
    {
     "name": "stdout",
     "output_type": "stream",
     "text": [
      "[ 20, 50, 100, 99, 60,  ]"
     ]
    }
   ],
   "source": [
    "arr.insert(100, 2)\n",
    "arr.display()"
   ]
  },
  {
   "cell_type": "code",
   "execution_count": 39,
   "id": "f3820260-a467-477a-99ce-161366167e5f",
   "metadata": {},
   "outputs": [
    {
     "name": "stdout",
     "output_type": "stream",
     "text": [
      "[ 0, 20, 50, 100, 99, 60,  ]"
     ]
    }
   ],
   "source": [
    "arr.insert(0, 0)\n",
    "arr.display()"
   ]
  },
  {
   "cell_type": "code",
   "execution_count": 40,
   "id": "2c91e177-5fc5-4a89-8559-f6bf6c91c0b5",
   "metadata": {},
   "outputs": [
    {
     "data": {
      "text/plain": [
       "6"
      ]
     },
     "execution_count": 40,
     "metadata": {},
     "output_type": "execute_result"
    }
   ],
   "source": [
    "len(arr)"
   ]
  },
  {
   "cell_type": "code",
   "execution_count": 42,
   "id": "aa9ccd81-6cfd-44e1-b351-056fe853757c",
   "metadata": {},
   "outputs": [],
   "source": [
    "arr.insert(77, 6)"
   ]
  },
  {
   "cell_type": "code",
   "execution_count": 43,
   "id": "84a45413-2386-42b2-b936-c1dd53f95618",
   "metadata": {},
   "outputs": [
    {
     "name": "stdout",
     "output_type": "stream",
     "text": [
      "[ 0, 20, 50, 100, 99, 60, 77,  ]"
     ]
    }
   ],
   "source": [
    "arr.display()"
   ]
  },
  {
   "cell_type": "code",
   "execution_count": 45,
   "id": "bcf2dfa5-30a8-4b3c-ac84-a31acbd8952b",
   "metadata": {},
   "outputs": [
    {
     "data": {
      "text/plain": [
       "(7, 7)"
      ]
     },
     "execution_count": 45,
     "metadata": {},
     "output_type": "execute_result"
    }
   ],
   "source": [
    "len(arr), arr.size"
   ]
  },
  {
   "cell_type": "code",
   "execution_count": null,
   "id": "2f7ed391-e0ec-4e7b-a938-1e24cf1ac80f",
   "metadata": {},
   "outputs": [],
   "source": []
  }
 ],
 "metadata": {
  "kernelspec": {
   "display_name": "Python 3 (ipykernel)",
   "language": "python",
   "name": "python3"
  },
  "language_info": {
   "codemirror_mode": {
    "name": "ipython",
    "version": 3
   },
   "file_extension": ".py",
   "mimetype": "text/x-python",
   "name": "python",
   "nbconvert_exporter": "python",
   "pygments_lexer": "ipython3",
   "version": "3.12.1"
  }
 },
 "nbformat": 4,
 "nbformat_minor": 5
}
